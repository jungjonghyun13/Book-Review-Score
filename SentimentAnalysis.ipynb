{
 "cells": [
  {
   "cell_type": "code",
   "execution_count": 68,
   "metadata": {},
   "outputs": [],
   "source": [
    "from Preprocessor import Preprocessor\n",
    "\n",
    "#FilterReview\n",
    "from sklearn.model_selection import train_test_split \n",
    "from sklearn.naive_bayes import GaussianNB \n",
    "from sklearn.linear_model import LogisticRegression\n",
    "from sklearn import metrics \n",
    "from sklearn.metrics import accuracy_score\n",
    "import numpy as np\n",
    "import pandas as pd\n",
    "import pickle \n",
    "import os.path\n",
    "\n",
    "class SentimentAnalysis:\n",
    "    def __init__(self):\n",
    "        self.modelname = 'model/SentimentAnalysis_model.sav'\n",
    "        self.SA_X_name = 'model/SA_X.sav'\n",
    "        self.SA_Y_name = 'model/SA_Y.sav'\n",
    "        \n",
    "        if os.path.isfile(self.modelname ):\n",
    "            print('모델을 불러오는중...')\n",
    "            self.gnb = pickle.load(open(self.modelname , 'rb'))\n",
    "        else : \n",
    "            print('모델이 없습니다!!')\n",
    "            \n",
    "    def input_X(self, para):\n",
    "        pre = Preprocessor()\n",
    "        print(para)\n",
    "        pre.setPara(para)\n",
    "        self.X = pre.transVector()\n",
    "    def input_Y(self, result):\n",
    "        self.Y = result\n",
    "\n",
    "    def transDataLoad(self,tag = True):\n",
    "        self.X = pickle.load(open(self.SA_X_name , 'rb'))\n",
    "        if tag == True:\n",
    "            self.Y = pickle.load(open(self.SA_Y_name , 'rb'))\n",
    "        \n",
    "    def transDataSave(self, tag = True):\n",
    "        pickle.dump(self.X, open(self.SA_X_name, 'wb'))\n",
    "        if tag == True:\n",
    "            pickle.dump(self.Y, open(self.SA_Y_name, 'wb'))\n",
    "            \n",
    "    def readCSV(self,filename,tag=True, save=True):\n",
    "        self.data = pd.read_csv(filename,engine='python')\n",
    "        self.X_content = self.data['sentence'].values\n",
    "        self.input_X(self.X_content)\n",
    "        if tag == True:\n",
    "            self.input_Y(self.data['label'].values)\n",
    "            if save == True:\n",
    "                self.transDataSave(tag=True)\n",
    "        elif save == True:\n",
    "             self.transDataSave(tag=False)\n",
    "    def trainModel(self,ts):\n",
    "        self.X_train,self.X_test,self.y_train,self.y_test=train_test_split(self.X,self.Y,test_size=ts)\n",
    "        self.gnb = GaussianNB()\n",
    "        self.gnb = LogisticRegression(random_state=1234)\n",
    "        print('모델 훈련 중..')\n",
    "        self.y_pred = self.gnb.fit(self.X_train, self.y_train).predict(self.X_test)\n",
    "        print('모델 훈련 끝.')\n",
    "        \n",
    "        \n",
    "        # 테스트 socre 확인\n",
    "        print(\"Number of right labeled points out of a total %d points : %.4f %%\"\n",
    "      % (len(self.y_test),self.gnb.score(self.X_test, self.y_test)))\n",
    "        \n",
    "        pickle.dump(self.gnb, open(self.modelname , 'wb'))\n",
    "        isSetModel = True\n",
    "        \n",
    "        # gnb 55.62 %\n",
    "    def predict(self):\n",
    "        self.y_pred = self.gnb.predict(self.X)\n",
    "        self.df = pd.DataFrame({'ps_label':self.y_pred, 'sentence':self.X_content})\n",
    "        return self.y_pred\n",
    "    \n",
    "    def writePredictionResult(self, filename):\n",
    "        self.df.to_csv(filename,encoding='utf-8-sig',index=False)\n",
    "        \n",
    "    def printAVGScoreResult(self):\n",
    "        print('예측 평균 점수: ',self.df['ps_label'].mean(),'\\n')"
   ]
  },
  {
   "cell_type": "code",
   "execution_count": 64,
   "metadata": {},
   "outputs": [
    {
     "name": "stdout",
     "output_type": "stream",
     "text": [
      "['아 더빙.. 진짜 짜증나네요 목소리' '흠...포스터보고 초딩영화줄....오버연기조차 가볍지 않구나'\n",
      " '너무재밓었다그래서보는것을추천한다' ... '그림도 좋고 완성도도 높았지만... 보는 내내 불안하게 만든다'\n",
      " '절대 봐서는 안 될 영화.. 재미도 없고 기분만 잡치고.. 한 세트장에서 다 해먹네' '마무리는 또 왜이래']\n"
     ]
    }
   ],
   "source": [
    "#sa.readCSV(tag=True,filename='MovieReview/MovieReview.csv', save=True)"
   ]
  },
  {
   "cell_type": "code",
   "execution_count": 70,
   "metadata": {},
   "outputs": [
    {
     "name": "stdout",
     "output_type": "stream",
     "text": [
      "모델을 불러오는중...\n",
      "모델 훈련 중..\n",
      "모델 훈련 끝.\n",
      "Number of right labeled points out of a total 49998 points : 0.6754 %\n"
     ]
    }
   ],
   "source": [
    "sa = SentimentAnalysis()\n",
    "sa.transDataLoad(tag=True)\n",
    "sa.trainModel(ts=0.25)"
   ]
  },
  {
   "cell_type": "code",
   "execution_count": 71,
   "metadata": {},
   "outputs": [
    {
     "name": "stdout",
     "output_type": "stream",
     "text": [
      "모델을 불러오는중...\n",
      "['아 더빙.. 진짜 짜증나네요 목소리' '흠...포스터보고 초딩영화줄....오버연기조차 가볍지 않구나'\n",
      " '너무재밓었다그래서보는것을추천한다' '교도소 이야기구먼 ..솔직히 재미는 없다..평점 조정'\n",
      " '사이몬페그의 익살스런 연기가 돋보였던 영화!스파이더맨에서 늙어보이기만 했던 커스틴 던스트가 너무나도 이뻐보였다'\n",
      " '막 걸음마 뗀 3세부터 초등학교 1학년생인 8살용영화.ㅋㅋㅋ...별반개도 아까움.' '원작의 긴장감을 제대로 살려내지못했다.'\n",
      " '별 반개도 아깝다 욕나온다 이응경 길용우 연기생활이몇년인지..정말 발로해도 그것보단 낫겟다 납치.감금만반복반복..이드라마는 가족도없다 연기못하는사람만모엿네'\n",
      " '액션이 없는데도 재미 있는 몇안되는 영화' '왜케 평점이 낮은건데? 꽤 볼만한데.. 헐리우드식 화려함에만 너무 길들여져 있나?'\n",
      " '걍인피니트가짱이다.진짜짱이다♥' '볼때마다 눈물나서 죽겠다90년대의 향수자극!!허진호는 감성절제멜로의 달인이다~']\n",
      "예측 평균 점수:  0.3333333333333333 \n",
      "\n"
     ]
    }
   ],
   "source": [
    "sa = SentimentAnalysis()\n",
    "sa.readCSV(tag=False,filename='Review.csv',save=False)\n",
    "sa.predict()\n",
    "sa.writePredictionResult(filename='ReviewScore.csv')\n",
    "sa.printAVGScoreResult()"
   ]
  },
  {
   "cell_type": "code",
   "execution_count": null,
   "metadata": {},
   "outputs": [],
   "source": [
    "from sklearn.linear_model import LogisticRegression\n",
    "classifier = LogisticRegression(random_state=1234)\n",
    "classifier.fit(train_x, train_y)\n",
    "\n",
    "# 테스트 socre 확인\n",
    "print( classifier.score(test_x, test_y) )\n",
    "# 0.63904\n",
    "\n",
    "# save the model to disk\n",
    "filename = 'model/finalized_model.sav'\n",
    "pickle.dump(classifier, open(filename, 'wb'))"
   ]
  }
 ],
 "metadata": {
  "kernelspec": {
   "display_name": "Python 3",
   "language": "python",
   "name": "python3"
  },
  "language_info": {
   "codemirror_mode": {
    "name": "ipython",
    "version": 3
   },
   "file_extension": ".py",
   "mimetype": "text/x-python",
   "name": "python",
   "nbconvert_exporter": "python",
   "pygments_lexer": "ipython3",
   "version": "3.6.4"
  }
 },
 "nbformat": 4,
 "nbformat_minor": 2
}
