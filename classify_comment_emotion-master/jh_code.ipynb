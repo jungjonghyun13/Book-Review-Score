{
 "cells": [
  {
   "cell_type": "code",
   "execution_count": 1,
   "metadata": {},
   "outputs": [
    {
     "name": "stderr",
     "output_type": "stream",
     "text": [
      "c:\\users\\yooso\\anaconda\\envs\\konlpy\\lib\\site-packages\\gensim\\utils.py:1209: UserWarning: detected Windows; aliasing chunkize to chunkize_serial\n",
      "  warnings.warn(\"detected Windows; aliasing chunkize to chunkize_serial\")\n",
      "c:\\users\\yooso\\anaconda\\envs\\konlpy\\lib\\site-packages\\konlpy\\tag\\_okt.py:16: UserWarning: \"Twitter\" has changed to \"Okt\" since KoNLPy v0.4.5.\n",
      "  warn('\"Twitter\" has changed to \"Okt\" since KoNLPy v0.4.5.')\n"
     ]
    }
   ],
   "source": [
    "from collections import namedtuple\n",
    "from gensim.models import doc2vec\n",
    "from konlpy.tag import Twitter\n",
    "import multiprocessing\n",
    "from pprint import pprint\n",
    "from gensim.models import Doc2Vec\n",
    "from sklearn.linear_model import LogisticRegression\n",
    "import numpy\n",
    "import pickle\n",
    "\n",
    "twitter = Twitter()\n",
    "def read_data(filename):\n",
    "    with open(filename, 'r',encoding='utf-8') as f:\n",
    "        data = [line.split('\\t') for line in f.read().splitlines()]\n",
    "    return data\n",
    "\n",
    "def tokenize(doc):\n",
    "# norm, stem은 optional\n",
    "    return ['/'.join(t) for t in twitter.pos(doc, norm=True, stem=True)]"
   ]
  },
  {
   "cell_type": "code",
   "execution_count": 2,
   "metadata": {},
   "outputs": [],
   "source": [
    "\n",
    "# load train data\n",
    "doc_vectorizer = Doc2Vec.load('model_jh/리뷰모음_train_랄라.model')\n",
    "\n",
    "# doc2vec 에서 필요한 데이터 형식으로 변경\n",
    "TaggedDocument = namedtuple('TaggedDocument', 'words tags')\n",
    "\n",
    "# load the model from disk\n",
    "filename = 'model_jh/finalized_model_gbn.sav'\n",
    "# 실제 분류 확인\n",
    "gnb = pickle.load(open(filename, 'rb'))\n",
    "\n",
    "def para2st(para):\n",
    "    re = []\n",
    "    para = para.replace(\"했다\",\"했다.\").replace(\"했다..\",\"했다.\").replace(\"했다.\",\"했다.\\n\").replace(\"니다\",\"니다.\").replace(\"니다..\",\"니다.\").replace(\"니다.\",\"니다.\\n\").replace(\"까?\",\"까?\\n\").replace(\"다!\",\"다!\\n\").replace(\"요.\",\"요.\\n\").replace(\"요!\",\"요!\\n\")\n",
    "    para = para.split('\\n')\n",
    "    split_st = [item.strip() for item in para]\n",
    "    run_docs = [(tokenize(item),-1) for item in split_st]\n",
    "    \n",
    "    tagged_run_docs = [TaggedDocument(d, [c]) for d, c in run_docs]\n",
    "    \n",
    "    # 분류를 위한 피쳐 생성\n",
    "    run_x = [doc_vectorizer.infer_vector(doc.words) for doc in tagged_run_docs]\n",
    "\n",
    "    pred_y = gnb.predict(run_x)\n",
    "    return split_st, pred_y\n"
   ]
  },
  {
   "cell_type": "code",
   "execution_count": null,
   "metadata": {
    "scrolled": false
   },
   "outputs": [
    {
     "name": "stderr",
     "output_type": "stream",
     "text": [
      "c:\\users\\yooso\\anaconda\\envs\\konlpy\\lib\\importlib\\_bootstrap.py:222: RuntimeWarning: numpy.dtype size changed, may indicate binary incompatibility. Expected 96, got 88\n",
      "  return f(*args, **kwds)\n",
      "c:\\users\\yooso\\anaconda\\envs\\konlpy\\lib\\importlib\\_bootstrap.py:222: RuntimeWarning: numpy.dtype size changed, may indicate binary incompatibility. Expected 96, got 88\n",
      "  return f(*args, **kwds)\n"
     ]
    },
    {
     "name": "stdout",
     "output_type": "stream",
     "text": [
      "folder: ./data\\2014\n",
      "folder: 2014\n",
      "./data/2014/지식인_수특 경제 2014.txt\t0.00018593408636638313\n",
      "./data/2014/지식인_수특 국어-A형 2014.txt\t0.00013061650992685477\n",
      "./data/2014/지식인_수특 국어-B형 2014.txt\t7.396449704142012e-05\n",
      "./data/2014/지식인_수특 기하와벡터 2014.txt\t9.46969696969697e-05\n",
      "./data/2014/지식인_수특 동아시아사 2014.txt\t0.00011042402826855124\n",
      "./data/2014/지식인_수특 물리1 2014.txt\t0.0\n",
      "./data/2014/지식인_수특 물리2 2014.txt\t0.0\n",
      "./data/2014/지식인_수특 미적분과통계기본 2014.txt\t6.482982171799028e-05\n",
      "./data/2014/지식인_수특 법과정치 2014.txt\t0.00010049241282283187\n",
      "./data/2014/지식인_수특 사회문화 2014.txt\t4.317789291882556e-05\n",
      "./data/2014/지식인_수특 생물1 2014.txt\t3.132832080200501e-05\n",
      "./data/2014/지식인_수특 생물2 2014.txt\t4.100041000410004e-05\n",
      "./data/2014/지식인_수특 생활과윤리 2014.txt\t2.774694783573807e-05\n",
      "./data/2014/지식인_수특 세계지리 2014.txt\t"
     ]
    }
   ],
   "source": [
    "import glob\n",
    "import os\n",
    "\n",
    "from pandas import DataFrame, read_csv\n",
    "import pandas as pd #this is how I usually import pandas\n",
    "import matplotlib #only needed to determine Matplotlib version number\n",
    "\n",
    "name_set = []\n",
    "sum_avg_set = []\n",
    "sum_avg=0.0\n",
    "folderlist = glob.glob('./data/*')\n",
    "for fol in folderlist:\n",
    "    if os.path.isdir(fol):\n",
    "        courses = []\n",
    "        comments_nums = []\n",
    "        hits_nums = [] \n",
    "        print('folder:',fol)\n",
    "        filelist = glob.glob(fol+'/*.txt')\n",
    "        folder = fol[7:]\n",
    "        print('folder:',folder)\n",
    "        for file in filelist:\n",
    "            #print(file)\n",
    "            \n",
    "            input_file = file.replace('\\\\','/')\n",
    "            course = input_file.split('/')[3][:-9]\n",
    "            print(input_file,end='\\t')\n",
    "            #2016_수능특강_국어_화작문_orbi\n",
    "            \n",
    "            run_data = read_data(input_file)\n",
    "            \n",
    "            #결과\n",
    "            result_set = []\n",
    "            for row in run_data[1:]:\n",
    "                if len(row) >= 3:\n",
    "                    result_set.append(para2st(row[2]))\n",
    "            sum_avg = 0.0\n",
    "            sum_ =0 \n",
    "            for item in result_set:\n",
    "                #for i in range(len(item[0])):\n",
    "                    #print(item[1][i],item[0][i], end='\\n')\n",
    "                sum_ = sum(item[1].astype(numpy.int32))/len(item[1])\n",
    "                #print(sum(item[1].astype(numpy.int32))/len(item[1]))\n",
    "            try:\n",
    "                sum_avg = sum_/len(result_set)\n",
    "                print(sum_avg)\n",
    "                name_set.append(course)\n",
    "                sum_avg_set.append(sum_avg)\n",
    "            except:\n",
    "                sum_avg=0\n",
    "        BabyDataSet = list(zip(name_set,sum_avg_set))\n",
    "        df = pd.DataFrame(data = BabyDataSet, columns=['Names', 'sentiment_score'])\n",
    "        output_file = '긍부정_'+folder\n",
    "        print('output_file_name',output_file)\n",
    "        df.to_csv(output_file+'.csv', encoding='utf-8-sig',index=False,header=True)\n",
    "        #긍부정_2016_수능특강_국어_화작문_orbi\n",
    "        \n",
    "        \n",
    "    #df=pd.DataFrame()\n",
    "    #df.to_csv(output_file+'_실험.csv', encoding='utf-8-sig', index=False)"
   ]
  }
 ],
 "metadata": {
  "kernelspec": {
   "display_name": "Python 3",
   "language": "python",
   "name": "python3"
  },
  "language_info": {
   "codemirror_mode": {
    "name": "ipython",
    "version": 3
   },
   "file_extension": ".py",
   "mimetype": "text/x-python",
   "name": "python",
   "nbconvert_exporter": "python",
   "pygments_lexer": "ipython3",
   "version": "3.6.5"
  }
 },
 "nbformat": 4,
 "nbformat_minor": 2
}
