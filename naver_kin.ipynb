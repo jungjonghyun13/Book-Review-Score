{
 "cells": [
  {
   "cell_type": "markdown",
   "metadata": {},
   "source": [
    "# Rolling Rolling crawling pop!"
   ]
  },
  {
   "cell_type": "code",
   "execution_count": 1,
   "metadata": {},
   "outputs": [],
   "source": [
    "import requests, operator, glob2\n",
    "from pandas import DataFrame\n",
    "import pandas as pd\n",
    "from bs4 import BeautifulSoup\n",
    "from datetime import datetime\n",
    "from math import ceil\n",
    "import ClassInfo"
   ]
  },
  {
   "cell_type": "code",
   "execution_count": 2,
   "metadata": {
    "scrolled": true
   },
   "outputs": [
    {
     "name": "stdout",
     "output_type": "stream",
     "text": [
      "------총합 파일 생성------\n",
      "------파일생성------\n"
     ]
    }
   ],
   "source": [
    "def Rolling(bookName, subjectName, startDate,endDate):\n",
    "    instance = ClassInfo.Naver(bookName, subjectName, startDate,endDate)\n",
    "    a1=instance.crawlingData(bookName, subjectName, startDate,endDate)\n",
    "    instance.dftoCSV(a1,bookName, subjectName, startDate,endDate)\n",
    "    \n",
    "def main():\n",
    "    bookName=\"수능특강\"\n",
    "    subjectName=\"중국어\"\n",
    "    startDate=\"2012.01.01.\"\n",
    "    endDate=\"2012.01.30.\"\n",
    "    \n",
    "    Rolling(bookName, subjectName, startDate,endDate)\n",
    "    \n",
    "main()"
   ]
  },
  {
   "cell_type": "code",
   "execution_count": null,
   "metadata": {},
   "outputs": [],
   "source": []
  },
  {
   "cell_type": "code",
   "execution_count": null,
   "metadata": {},
   "outputs": [],
   "source": []
  }
 ],
 "metadata": {
  "kernelspec": {
   "display_name": "Python 3",
   "language": "python",
   "name": "python3"
  },
  "language_info": {
   "codemirror_mode": {
    "name": "ipython",
    "version": 3
   },
   "file_extension": ".py",
   "mimetype": "text/x-python",
   "name": "python",
   "nbconvert_exporter": "python",
   "pygments_lexer": "ipython3",
   "version": "3.7.0"
  }
 },
 "nbformat": 4,
 "nbformat_minor": 2
}
