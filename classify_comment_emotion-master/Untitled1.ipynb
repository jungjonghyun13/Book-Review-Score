{
 "cells": [
  {
   "cell_type": "code",
   "execution_count": 1,
   "metadata": {},
   "outputs": [
    {
     "name": "stderr",
     "output_type": "stream",
     "text": [
      "C:\\Users\\yooso\\Anaconda\\lib\\site-packages\\gensim\\utils.py:1209: UserWarning: detected Windows; aliasing chunkize to chunkize_serial\n",
      "  warnings.warn(\"detected Windows; aliasing chunkize to chunkize_serial\")\n",
      "C:\\Users\\yooso\\Anaconda\\lib\\site-packages\\konlpy\\tag\\_okt.py:16: UserWarning: \"Twitter\" has changed to \"Okt\" since KoNLPy v0.4.5.\n",
      "  warn('\"Twitter\" has changed to \"Okt\" since KoNLPy v0.4.5.')\n",
      "C:\\Users\\yooso\\Anaconda\\lib\\site-packages\\gensim\\models\\doc2vec.py:531: UserWarning: The parameter `iter` is deprecated, will be removed in 4.0.0, use `epochs` instead.\n",
      "  warnings.warn(\"The parameter `iter` is deprecated, will be removed in 4.0.0, use `epochs` instead.\")\n",
      "C:\\Users\\yooso\\Anaconda\\lib\\site-packages\\gensim\\models\\doc2vec.py:535: UserWarning: The parameter `size` is deprecated, will be removed in 4.0.0, use `vector_size` instead.\n",
      "  warnings.warn(\"The parameter `size` is deprecated, will be removed in 4.0.0, use `vector_size` instead.\")\n"
     ]
    },
    {
     "name": "stdout",
     "output_type": "stream",
     "text": [
      "0.67468\n"
     ]
    }
   ],
   "source": [
    "from collections import namedtuple\n",
    "from gensim.models import doc2vec\n",
    "from konlpy.tag import Twitter\n",
    "import multiprocessing\n",
    "from pprint import pprint\n",
    "from gensim.models import Doc2Vec\n",
    "from sklearn.linear_model import LogisticRegression\n",
    "import numpy\n",
    "import pickle\n",
    "\n",
    "\n",
    "twitter = Twitter()\n",
    "\n",
    "def read_data(filename):\n",
    "    with open(filename, 'r',-1,'utf-8') as f:\n",
    "        data = [line.split('\\t') for line in f.read().splitlines()]\n",
    "    return data\n",
    "\n",
    "def tokenize(doc):\n",
    "  # norm, stem은 optional\n",
    "  return ['/'.join(t) for t in twitter.pos(doc, norm=True, stem=True)]\n",
    "\n",
    "\n",
    "# 테스트 데이터를 읽기\n",
    "train_data = read_data('data/ratings_train.txt')\n",
    "test_data = read_data('data/ratings_test.txt')\n",
    "\n",
    "# 형태소 분류\n",
    "train_docs = [(tokenize(row[1]), row[2]) for row in train_data[1:]]\n",
    "test_docs = [(tokenize(row[1]), row[2]) for row in test_data[1:]]\n",
    "\n",
    "# doc2vec 에서 필요한 데이터 형식으로 변경\n",
    "TaggedDocument = namedtuple('TaggedDocument', 'words tags')\n",
    "tagged_train_docs = [TaggedDocument(d, [c]) for d, c in train_docs]\n",
    "tagged_test_docs = [TaggedDocument(d, [c]) for d, c in test_docs]\n",
    "\n",
    "# load train data\n",
    "doc_vectorizer = Doc2Vec.load('model/doc2vec.model')\n",
    "\n",
    "# 분류를 위한 피쳐 생성\n",
    "train_x = [doc_vectorizer.infer_vector(doc.words) for doc in tagged_train_docs]\n",
    "train_y = [doc.tags[0] for doc in tagged_train_docs]\n",
    "test_x = [doc_vectorizer.infer_vector(doc.words) for doc in tagged_test_docs]\n",
    "test_y = [doc.tags[0] for doc in tagged_test_docs]\n",
    "\n",
    "\n",
    "#classifier = LogisticRegression(C=1.0, class_weight=None, dual=False, fit_intercept=True, intercept_scaling=1, penalty='l2', random_state=None, tol=0.0001)\n",
    "classifier = LogisticRegression(random_state=1234)\n",
    "classifier.fit(train_x, train_y)\n",
    "\n",
    "# 테스트 socre 확인\n",
    "print( classifier.score(test_x, test_y) )\n",
    "\n",
    "\n",
    "# save the model to disk\n",
    "filename = 'model/finalized_model.sav'\n",
    "pickle.dump(classifier, open(filename, 'wb'))"
   ]
  },
  {
   "cell_type": "code",
   "execution_count": null,
   "metadata": {},
   "outputs": [],
   "source": []
  }
 ],
 "metadata": {
  "kernelspec": {
   "display_name": "Python 3",
   "language": "python",
   "name": "python3"
  },
  "language_info": {
   "codemirror_mode": {
    "name": "ipython",
    "version": 3
   },
   "file_extension": ".py",
   "mimetype": "text/x-python",
   "name": "python",
   "nbconvert_exporter": "python",
   "pygments_lexer": "ipython3",
   "version": "3.6.5"
  }
 },
 "nbformat": 4,
 "nbformat_minor": 2
}
