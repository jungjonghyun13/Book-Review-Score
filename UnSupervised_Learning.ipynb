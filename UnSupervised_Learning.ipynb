{
 "cells": [
  {
   "cell_type": "code",
   "execution_count": 1,
   "metadata": {},
   "outputs": [],
   "source": [
    "import pandas as pd\n",
    "import numpy as np\n",
    "\n",
    "import matplotlib.pyplot as plt\n",
    "import seaborn as sns\n",
    "%matplotlib inline\n"
   ]
  },
  {
   "cell_type": "code",
   "execution_count": 157,
   "metadata": {},
   "outputs": [],
   "source": [
    "from Preprocessor import Preprocessor\n",
    "\n",
    "#FilterReview\n",
    "from sklearn.model_selection import train_test_split \n",
    "from sklearn.cluster import KMeans\n",
    "from sklearn import metrics \n",
    "from sklearn.metrics import accuracy_score\n",
    "import numpy as np\n",
    "import pandas as pd\n",
    "import pickle \n",
    "'''\n",
    "readCSV :CSV 파일을 읽는다. 고정포맷이 정해짐 \n",
    "trainModel(ts =0.25): 입력된 모델에서 학습시킨다. ts 테스트 케이스 \n",
    "predict(): 학습시킨 모델에 test데이터가 입력되면 예측한다. \n",
    "writePredictionResult(): 예측 결과를 파일로 출력한다. \n",
    "'''\n",
    "class FilterReviewSV:\n",
    "    def __init__(self):\n",
    "        self.model_filename = 'FilterReviewSV_model.sav'\n",
    "        self.isSetModel = False\n",
    "        if not(self.isSetModel):\n",
    "            self.kmeans_data = pd.read_csv('FilterReviewSV_model.csv',encoding='euc-kr')\n",
    "            self.kmeans = pickle.load(open(self.model_filename, 'rb'))\n",
    "            \n",
    "    def input_X(self, para):\n",
    "        pre = Preprocessor()\n",
    "        pre.setPara(para)\n",
    "        self.X = pre.transVector()\n",
    "    def input_Y(self, result):\n",
    "        self.Y = result\n",
    "        \n",
    "    def readCSV(self,filename,tag=True):\n",
    "        self.data = pd.read_csv(filename,encoding='euc-kr')\n",
    "        self.X_content = self.data['글'].values\n",
    "        self.input_X(self.X_content)\n",
    "        if tag == True:\n",
    "            self.input_Y(self.data['tag'].values)\n",
    "        \n",
    "    def trainModel(self):\n",
    "        \n",
    "        #self.X_train,self.X_test,self.y_train,self.y_test=train_test_split(self.X,self.Y,test_size=ts)\n",
    "        #print(self.y_train,self.y_test)\n",
    "        self.kmeans  = KMeans(n_clusters=2).fit(self.X) \n",
    "\n",
    "        #self.y_pred = self.kmeans.fit(self.X_train, self.y_train).predict(self.X_test)\n",
    "\n",
    "        # 테스트 socre 확인\n",
    "        #print(\"Number of right labeled points out of a total %d points : %.2f %%\"\n",
    "      #% (len(self.X),100*(len(self.X)-(self.y_test != self.y_pred).sum())/len(self.X)))\n",
    "        \n",
    "        self.data['category'] = self.kmeans.labels_\n",
    "        self.kmeans_data = self.data\n",
    "        \n",
    "        self.kmeans_data.to_csv('FilterReviewSV_model.csv',encoding='euc-kr')\n",
    "        pickle.dump(self.kmeans, open(self.model_filename, 'wb'))\n",
    "        \n",
    "        self.isSetModel = True\n",
    "    def predict(self):\n",
    "        self.y_pred = self.kmeans.predict(self.X)\n",
    "        self.y_pred\n",
    "        print('\\n\\n\\n')\n",
    "        print(self.y_pred)\n",
    "        tolabel = np.zeros(self.y_pred.shape[0],dtype='int32')\n",
    "        print(tolabel)\n",
    "        for i in range(self.y_pred.shape[0]):\n",
    "            pred = self.y_pred[i]\n",
    "            sample_set = self.kmeans_data[self.kmeans_data['category']==pred]\n",
    "            #print(sample_set['category'].head())\n",
    "            \n",
    "            tolabel[i] = 1 if sample_set['tag'].mean()>0.5 else 0\n",
    "            \n",
    "        tolabel_pd = pd.DataFrame({'P_tag':tolabel})\n",
    "        tolabel_pd.reset_index(inplace=True)\n",
    "        self.data.reset_index(inplace=True)\n",
    "        print(tolabel_pd)\n",
    "        print(self.data)\n",
    "        self.data_labeled = pd.merge(self.data,tolabel_pd,on='index' )\n",
    "        self.data_labeled.drop(labels='index',axis=1,inplace=True)\n",
    "        print(self.data_labeled.head())\n",
    "        return self.data_labeled\n",
    "    \n",
    "    def writePredictionResult(self, filename):\n",
    "        self.data_labeled.to_csv(filename,encoding='euc-kr')"
   ]
  },
  {
   "cell_type": "code",
   "execution_count": 158,
   "metadata": {},
   "outputs": [
    {
     "name": "stdout",
     "output_type": "stream",
     "text": [
      "['나는 멍청하다.' '지수는 왜 나갔을까?' '언제 취업하지…' '잠온다.']\n",
      "\n",
      "\n",
      "\n",
      "\n",
      "[1 0 0 0]\n",
      "[0 0 0 0]\n",
      "   index  P_tag\n",
      "0      0      1\n",
      "1      1      0\n",
      "2      2      0\n",
      "3      3      0\n",
      "   index            글    조회수  tag\n",
      "0      0     나는 멍청하다.  10000    1\n",
      "1      1  지수는 왜 나갔을까?    200    0\n",
      "2      2     언제 취업하지…    300    1\n",
      "3      3         잠온다.      2    0\n",
      "             글    조회수  tag  P_tag\n",
      "0     나는 멍청하다.  10000    1      1\n",
      "1  지수는 왜 나갔을까?    200    0      0\n",
      "2     언제 취업하지…    300    1      0\n",
      "3         잠온다.      2    0      0\n"
     ]
    }
   ],
   "source": [
    "fr = FilterReviewSV()\n",
    "#fr.input_X('나는 멍청이다.\\n취업 좀 하자\\n취업 좀 하자\\n취업 좀 하자')\n",
    "#fr.input_Y([1,0,1,0])\n",
    "#fr.readCSV(tag=True,filename='Train.csv')\n",
    "#fr.trainModel()\n",
    "\n",
    "fr.readCSV(tag=False,filename='Test.csv')\n",
    "fr.predict()\n",
    "\n",
    "fr.writePredictionResult('sample.csv')\n",
    "#print(fr.y_pred)\n",
    "#fr.X_content\n"
   ]
  },
  {
   "cell_type": "code",
   "execution_count": 2,
   "metadata": {},
   "outputs": [
    {
     "ename": "NameError",
     "evalue": "name 'PreProcessor' is not defined",
     "output_type": "error",
     "traceback": [
      "\u001b[1;31m---------------------------------------------------------------------------\u001b[0m",
      "\u001b[1;31mNameError\u001b[0m                                 Traceback (most recent call last)",
      "\u001b[1;32m<ipython-input-2-c99c11f1307a>\u001b[0m in \u001b[0;36m<module>\u001b[1;34m\u001b[0m\n\u001b[1;32m----> 1\u001b[1;33m \u001b[0mpre\u001b[0m \u001b[1;33m=\u001b[0m \u001b[0mPreProcessor\u001b[0m\u001b[1;33m(\u001b[0m\u001b[1;33m)\u001b[0m\u001b[1;33m\u001b[0m\u001b[0m\n\u001b[0m\u001b[0;32m      2\u001b[0m \u001b[0mpre\u001b[0m\u001b[1;33m.\u001b[0m\u001b[0msetPara\u001b[0m\u001b[1;33m(\u001b[0m\u001b[1;34m''\u001b[0m\u001b[1;33m)\u001b[0m\u001b[1;33m\u001b[0m\u001b[0m\n\u001b[0;32m      3\u001b[0m \u001b[1;33m\u001b[0m\u001b[0m\n\u001b[0;32m      4\u001b[0m \u001b[0mpre\u001b[0m\u001b[1;33m.\u001b[0m\u001b[0mtransVector\u001b[0m\u001b[1;33m(\u001b[0m\u001b[1;33m)\u001b[0m\u001b[1;33m\u001b[0m\u001b[0m\n\u001b[0;32m      5\u001b[0m \u001b[0mpre\u001b[0m\u001b[1;33m.\u001b[0m\u001b[0mVec\u001b[0m\u001b[1;33m\u001b[0m\u001b[0m\n",
      "\u001b[1;31mNameError\u001b[0m: name 'PreProcessor' is not defined"
     ]
    }
   ],
   "source": [
    "pre = PreProcessor()\n",
    "pre.setPara('')\n",
    "\n",
    "pre.transVector()\n",
    "pre.Vec"
   ]
  },
  {
   "cell_type": "code",
   "execution_count": 5,
   "metadata": {},
   "outputs": [],
   "source": [
    "\n",
    "df = pd.DataFrame(columns=['height', 'weight'])\n",
    "df.loc[0] = [185,60]\n",
    "df.loc[1] = [180,60]\n",
    "df.loc[2] = [185,70]\n",
    "df.loc[3] = [165,63]\n",
    "df.loc[4] = [155,68]\n",
    "df.loc[5] = [170,75]\n",
    "df.loc[6] = [185,65]\n",
    "\n",
    "df2 = pd.DataFrame(columns=['height', 'weight'])\n",
    "df2.loc[0] = [185,75]\n",
    "df2.loc[1] = [175,63]\n",
    "df2.loc[2] = [165,60]\n",
    "df2.loc[3] = [170,66]\n",
    "\n"
   ]
  },
  {
   "cell_type": "code",
   "execution_count": 6,
   "metadata": {},
   "outputs": [
    {
     "data": {
      "text/html": [
       "<div>\n",
       "<style scoped>\n",
       "    .dataframe tbody tr th:only-of-type {\n",
       "        vertical-align: middle;\n",
       "    }\n",
       "\n",
       "    .dataframe tbody tr th {\n",
       "        vertical-align: top;\n",
       "    }\n",
       "\n",
       "    .dataframe thead th {\n",
       "        text-align: right;\n",
       "    }\n",
       "</style>\n",
       "<table border=\"1\" class=\"dataframe\">\n",
       "  <thead>\n",
       "    <tr style=\"text-align: right;\">\n",
       "      <th></th>\n",
       "      <th>height</th>\n",
       "      <th>weight</th>\n",
       "    </tr>\n",
       "  </thead>\n",
       "  <tbody>\n",
       "    <tr>\n",
       "      <th>0</th>\n",
       "      <td>185</td>\n",
       "      <td>60</td>\n",
       "    </tr>\n",
       "    <tr>\n",
       "      <th>1</th>\n",
       "      <td>180</td>\n",
       "      <td>60</td>\n",
       "    </tr>\n",
       "    <tr>\n",
       "      <th>2</th>\n",
       "      <td>185</td>\n",
       "      <td>70</td>\n",
       "    </tr>\n",
       "    <tr>\n",
       "      <th>3</th>\n",
       "      <td>165</td>\n",
       "      <td>63</td>\n",
       "    </tr>\n",
       "    <tr>\n",
       "      <th>4</th>\n",
       "      <td>155</td>\n",
       "      <td>68</td>\n",
       "    </tr>\n",
       "    <tr>\n",
       "      <th>5</th>\n",
       "      <td>170</td>\n",
       "      <td>75</td>\n",
       "    </tr>\n",
       "    <tr>\n",
       "      <th>6</th>\n",
       "      <td>185</td>\n",
       "      <td>65</td>\n",
       "    </tr>\n",
       "  </tbody>\n",
       "</table>\n",
       "</div>"
      ],
      "text/plain": [
       "  height weight\n",
       "0    185     60\n",
       "1    180     60\n",
       "2    185     70\n",
       "3    165     63\n",
       "4    155     68\n",
       "5    170     75\n",
       "6    185     65"
      ]
     },
     "execution_count": 6,
     "metadata": {},
     "output_type": "execute_result"
    }
   ],
   "source": [
    "\n",
    "df.head(7)"
   ]
  },
  {
   "cell_type": "code",
   "execution_count": 7,
   "metadata": {},
   "outputs": [
    {
     "data": {
      "text/plain": [
       "7"
      ]
     },
     "execution_count": 7,
     "metadata": {},
     "output_type": "execute_result"
    }
   ],
   "source": [
    "len(df)"
   ]
  },
  {
   "cell_type": "code",
   "execution_count": 8,
   "metadata": {},
   "outputs": [
    {
     "data": {
      "text/html": [
       "<div>\n",
       "<style scoped>\n",
       "    .dataframe tbody tr th:only-of-type {\n",
       "        vertical-align: middle;\n",
       "    }\n",
       "\n",
       "    .dataframe tbody tr th {\n",
       "        vertical-align: top;\n",
       "    }\n",
       "\n",
       "    .dataframe thead th {\n",
       "        text-align: right;\n",
       "    }\n",
       "</style>\n",
       "<table border=\"1\" class=\"dataframe\">\n",
       "  <thead>\n",
       "    <tr style=\"text-align: right;\">\n",
       "      <th></th>\n",
       "      <th>height</th>\n",
       "      <th>weight</th>\n",
       "    </tr>\n",
       "  </thead>\n",
       "  <tbody>\n",
       "    <tr>\n",
       "      <th>0</th>\n",
       "      <td>185</td>\n",
       "      <td>60</td>\n",
       "    </tr>\n",
       "    <tr>\n",
       "      <th>1</th>\n",
       "      <td>180</td>\n",
       "      <td>60</td>\n",
       "    </tr>\n",
       "    <tr>\n",
       "      <th>2</th>\n",
       "      <td>185</td>\n",
       "      <td>70</td>\n",
       "    </tr>\n",
       "    <tr>\n",
       "      <th>3</th>\n",
       "      <td>165</td>\n",
       "      <td>63</td>\n",
       "    </tr>\n",
       "    <tr>\n",
       "      <th>4</th>\n",
       "      <td>155</td>\n",
       "      <td>68</td>\n",
       "    </tr>\n",
       "    <tr>\n",
       "      <th>5</th>\n",
       "      <td>170</td>\n",
       "      <td>75</td>\n",
       "    </tr>\n",
       "    <tr>\n",
       "      <th>6</th>\n",
       "      <td>185</td>\n",
       "      <td>65</td>\n",
       "    </tr>\n",
       "    <tr>\n",
       "      <th>7</th>\n",
       "      <td>185</td>\n",
       "      <td>75</td>\n",
       "    </tr>\n",
       "    <tr>\n",
       "      <th>8</th>\n",
       "      <td>175</td>\n",
       "      <td>63</td>\n",
       "    </tr>\n",
       "    <tr>\n",
       "      <th>9</th>\n",
       "      <td>165</td>\n",
       "      <td>60</td>\n",
       "    </tr>\n",
       "    <tr>\n",
       "      <th>10</th>\n",
       "      <td>170</td>\n",
       "      <td>66</td>\n",
       "    </tr>\n",
       "  </tbody>\n",
       "</table>\n",
       "</div>"
      ],
      "text/plain": [
       "   height weight\n",
       "0     185     60\n",
       "1     180     60\n",
       "2     185     70\n",
       "3     165     63\n",
       "4     155     68\n",
       "5     170     75\n",
       "6     185     65\n",
       "7     185     75\n",
       "8     175     63\n",
       "9     165     60\n",
       "10    170     66"
      ]
     },
     "execution_count": 8,
     "metadata": {},
     "output_type": "execute_result"
    }
   ],
   "source": [
    "df3 = df.append(df2,ignore_index=True)\n",
    "df3"
   ]
  },
  {
   "cell_type": "code",
   "execution_count": 9,
   "metadata": {},
   "outputs": [
    {
     "data": {
      "text/plain": [
       "<seaborn.axisgrid.FacetGrid at 0x17ab7590dd8>"
      ]
     },
     "execution_count": 9,
     "metadata": {},
     "output_type": "execute_result"
    },
    {
     "data": {
      "image/png": "[encoded data removed]",
      "text/plain": [
       "<Figure size 360x360 with 1 Axes>"
      ]
     },
     "metadata": {
      "needs_background": "light"
     },
     "output_type": "display_data"
    }
   ],
   "source": [
    "sns.lmplot('height', 'weight', \n",
    "           data=df3, fit_reg=False, \n",
    "           scatter_kws={\"s\": 200})"
   ]
  },
  {
   "cell_type": "code",
   "execution_count": 10,
   "metadata": {},
   "outputs": [],
   "source": [
    "\n",
    "data_points = df3.values\n",
    "kmeans = KMeans(n_clusters=4).fit(data_points)\n"
   ]
  },
  {
   "cell_type": "code",
   "execution_count": 15,
   "metadata": {},
   "outputs": [
    {
     "ename": "TypeError",
     "evalue": "predict() missing 1 required positional argument: 'X'",
     "output_type": "error",
     "traceback": [
      "\u001b[1;31m---------------------------------------------------------------------------\u001b[0m",
      "\u001b[1;31mTypeError\u001b[0m                                 Traceback (most recent call last)",
      "\u001b[1;32m<ipython-input-15-ac59564d6828>\u001b[0m in \u001b[0;36m<module>\u001b[1;34m\u001b[0m\n\u001b[1;32m----> 1\u001b[1;33m \u001b[0mKMeans\u001b[0m\u001b[1;33m.\u001b[0m\u001b[0mpredict\u001b[0m\u001b[1;33m(\u001b[0m\u001b[0mnp\u001b[0m\u001b[1;33m.\u001b[0m\u001b[0marray\u001b[0m\u001b[1;33m(\u001b[0m\u001b[1;33m[\u001b[0m\u001b[1;33m[\u001b[0m\u001b[1;36m185\u001b[0m\u001b[1;33m,\u001b[0m\u001b[1;36m80\u001b[0m\u001b[1;33m]\u001b[0m\u001b[1;33m]\u001b[0m\u001b[1;33m)\u001b[0m\u001b[1;33m)\u001b[0m\u001b[1;33m\u001b[0m\u001b[0m\n\u001b[0m",
      "\u001b[1;31mTypeError\u001b[0m: predict() missing 1 required positional argument: 'X'"
     ]
    }
   ],
   "source": [
    "KMeans.predict(np.array([[185,80]]))"
   ]
  },
  {
   "cell_type": "code",
   "execution_count": 11,
   "metadata": {},
   "outputs": [
    {
     "data": {
      "text/plain": [
       "array([[185, 60],\n",
       "       [180, 60],\n",
       "       [185, 70],\n",
       "       [165, 63],\n",
       "       [155, 68],\n",
       "       [170, 75],\n",
       "       [185, 65],\n",
       "       [185, 75],\n",
       "       [175, 63],\n",
       "       [165, 60],\n",
       "       [170, 66]], dtype=object)"
      ]
     },
     "execution_count": 11,
     "metadata": {},
     "output_type": "execute_result"
    }
   ],
   "source": [
    "df3.values"
   ]
  },
  {
   "cell_type": "code",
   "execution_count": 12,
   "metadata": {},
   "outputs": [
    {
     "data": {
      "text/plain": [
       "array([[171.66666667,  68.        ],\n",
       "       [161.66666667,  63.66666667],\n",
       "       [183.33333333,  61.66666667],\n",
       "       [185.        ,  72.5       ]])"
      ]
     },
     "execution_count": 12,
     "metadata": {},
     "output_type": "execute_result"
    }
   ],
   "source": [
    "kmeans.cluster_centers_"
   ]
  },
  {
   "cell_type": "code",
   "execution_count": 13,
   "metadata": {},
   "outputs": [],
   "source": [
    "df3['cluster_id'] = kmeans.labels_"
   ]
  },
  {
   "cell_type": "code",
   "execution_count": 100,
   "metadata": {},
   "outputs": [
    {
     "data": {
      "text/html": [
       "<div>\n",
       "<style scoped>\n",
       "    .dataframe tbody tr th:only-of-type {\n",
       "        vertical-align: middle;\n",
       "    }\n",
       "\n",
       "    .dataframe tbody tr th {\n",
       "        vertical-align: top;\n",
       "    }\n",
       "\n",
       "    .dataframe thead th {\n",
       "        text-align: right;\n",
       "    }\n",
       "</style>\n",
       "<table border=\"1\" class=\"dataframe\">\n",
       "  <thead>\n",
       "    <tr style=\"text-align: right;\">\n",
       "      <th></th>\n",
       "      <th>height</th>\n",
       "      <th>weight</th>\n",
       "      <th>cluster_id</th>\n",
       "    </tr>\n",
       "  </thead>\n",
       "  <tbody>\n",
       "    <tr>\n",
       "      <th>0</th>\n",
       "      <td>185</td>\n",
       "      <td>60</td>\n",
       "      <td>0</td>\n",
       "    </tr>\n",
       "    <tr>\n",
       "      <th>1</th>\n",
       "      <td>180</td>\n",
       "      <td>60</td>\n",
       "      <td>0</td>\n",
       "    </tr>\n",
       "    <tr>\n",
       "      <th>2</th>\n",
       "      <td>185</td>\n",
       "      <td>70</td>\n",
       "      <td>3</td>\n",
       "    </tr>\n",
       "    <tr>\n",
       "      <th>3</th>\n",
       "      <td>165</td>\n",
       "      <td>63</td>\n",
       "      <td>1</td>\n",
       "    </tr>\n",
       "    <tr>\n",
       "      <th>4</th>\n",
       "      <td>155</td>\n",
       "      <td>68</td>\n",
       "      <td>1</td>\n",
       "    </tr>\n",
       "    <tr>\n",
       "      <th>5</th>\n",
       "      <td>170</td>\n",
       "      <td>75</td>\n",
       "      <td>2</td>\n",
       "    </tr>\n",
       "    <tr>\n",
       "      <th>6</th>\n",
       "      <td>185</td>\n",
       "      <td>65</td>\n",
       "      <td>0</td>\n",
       "    </tr>\n",
       "    <tr>\n",
       "      <th>7</th>\n",
       "      <td>185</td>\n",
       "      <td>75</td>\n",
       "      <td>3</td>\n",
       "    </tr>\n",
       "    <tr>\n",
       "      <th>8</th>\n",
       "      <td>175</td>\n",
       "      <td>63</td>\n",
       "      <td>2</td>\n",
       "    </tr>\n",
       "    <tr>\n",
       "      <th>9</th>\n",
       "      <td>165</td>\n",
       "      <td>60</td>\n",
       "      <td>1</td>\n",
       "    </tr>\n",
       "    <tr>\n",
       "      <th>10</th>\n",
       "      <td>170</td>\n",
       "      <td>66</td>\n",
       "      <td>2</td>\n",
       "    </tr>\n",
       "  </tbody>\n",
       "</table>\n",
       "</div>"
      ],
      "text/plain": [
       "   height weight  cluster_id\n",
       "0     185     60           0\n",
       "1     180     60           0\n",
       "2     185     70           3\n",
       "3     165     63           1\n",
       "4     155     68           1\n",
       "5     170     75           2\n",
       "6     185     65           0\n",
       "7     185     75           3\n",
       "8     175     63           2\n",
       "9     165     60           1\n",
       "10    170     66           2"
      ]
     },
     "execution_count": 100,
     "metadata": {},
     "output_type": "execute_result"
    }
   ],
   "source": [
    "df3.head(12)\n"
   ]
  },
  {
   "cell_type": "code",
   "execution_count": 102,
   "metadata": {},
   "outputs": [
    {
     "data": {
      "text/plain": [
       "<seaborn.axisgrid.FacetGrid at 0x222f3f99828>"
      ]
     },
     "execution_count": 102,
     "metadata": {},
     "output_type": "execute_result"
    },
    {
     "data": {
      "image/png": "[encoded data removed]",
      "text/plain": [
       "<Figure size 416.375x360 with 1 Axes>"
      ]
     },
     "metadata": {
      "needs_background": "light"
     },
     "output_type": "display_data"
    }
   ],
   "source": [
    "\n",
    "sns.lmplot('height', 'weight', data=df3, fit_reg=False,\n",
    "           scatter_kws={\"s\": 150},\n",
    "           hue=\"cluster_id\")"
   ]
  },
  {
   "cell_type": "code",
   "execution_count": 129,
   "metadata": {},
   "outputs": [
    {
     "data": {
      "text/plain": [
       "[1, 2, 3]"
      ]
     },
     "execution_count": 129,
     "metadata": {},
     "output_type": "execute_result"
    }
   ],
   "source": [
    "# cluster id와 target id가 동일한 경우 하나의 클러스터로 통합. \n",
    "df4= df3[len(df):]\n",
    "eq_cluster = list(set(df4['cluster_id'].values))\n",
    "eq_cluster[:]"
   ]
  },
  {
   "cell_type": "code",
   "execution_count": 141,
   "metadata": {},
   "outputs": [],
   "source": [
    "for i in range(len(eq_cluster)):\n",
    "    df3.loc[df3['cluster_id']==eq_cluster[i],\"cluster_id\"] = 5"
   ]
  },
  {
   "cell_type": "code",
   "execution_count": 143,
   "metadata": {},
   "outputs": [
    {
     "data": {
      "text/plain": [
       "<seaborn.axisgrid.FacetGrid at 0x222f4037470>"
      ]
     },
     "execution_count": 143,
     "metadata": {},
     "output_type": "execute_result"
    },
    {
     "data": {
      "image/png": "[encoded data removed]",
      "text/plain": [
       "<Figure size 416.375x360 with 1 Axes>"
      ]
     },
     "metadata": {
      "needs_background": "light"
     },
     "output_type": "display_data"
    }
   ],
   "source": [
    "\n",
    "sns.lmplot('height', 'weight', data=df3, fit_reg=False,\n",
    "           scatter_kws={\"s\": 150},\n",
    "           hue=\"cluster_id\")"
   ]
  },
  {
   "cell_type": "code",
   "execution_count": null,
   "metadata": {},
   "outputs": [],
   "source": []
  }
 ],
 "metadata": {
  "kernelspec": {
   "display_name": "Python 3",
   "language": "python",
   "name": "python3"
  },
  "language_info": {
   "codemirror_mode": {
    "name": "ipython",
    "version": 3
   },
   "file_extension": ".py",
   "mimetype": "text/x-python",
   "name": "python",
   "nbconvert_exporter": "python",
   "pygments_lexer": "ipython3",
   "version": "3.6.4"
  }
 },
 "nbformat": 4,
 "nbformat_minor": 2
}
