{
 "cells": [
  {
   "cell_type": "code",
   "execution_count": 1,
   "metadata": {},
   "outputs": [],
   "source": [
    "import requests, operator, glob2\n",
    "from pandas import DataFrame\n",
    "import pandas as pd\n",
    "from bs4 import BeautifulSoup\n",
    "from datetime import datetime\n",
    "from math import ceil\n",
    "import Naver_info\n",
    "import Orbi_Info\n",
    "import Sumanhui_info"
   ]
  },
  {
   "cell_type": "code",
   "execution_count": 2,
   "metadata": {},
   "outputs": [],
   "source": [
    "#크롤링 데이터 csv 파일 생성\n",
    "def dftoCSV(site,df1,df2,s1,s2,d1,d2):\n",
    "    df1.to_csv(site+'_content_'+s1+'_'+s2+' _'+d1+' ~ '+d2+'.csv', encoding='utf-8-sig', index=False)\n",
    "    df2.to_csv(site+'_value_'+s1+'_'+s2+' _'+d1+' ~ '+d2+'.csv', encoding='utf-8-sig', index=False)\n",
    "    print(\"------파일 생성------\")\n",
    "    \n",
    "\n",
    "def main():\n",
    "    print('(지식인:1, 오르비:2, 수만휘:3)')\n",
    "    \n",
    "    try:\n",
    "        num = int(input(\"사용하고자 하는 사이트의 번호를 입력하세요: \"))\n",
    "        if num > 3:\n",
    "            raise Exception\n",
    "        if num < 0:\n",
    "            raise Exception            \n",
    "    except Exception:\n",
    "        print('1, 2, 3 중 하나의 숫자만 정확히 입력하세요.') \n",
    "        \n",
    "    else:\n",
    "    #네이버 지식인\n",
    "        if num == 1:\n",
    "            print('*** 네이버 지식인 사이트에서 크롤링을 시작합니다 ***')\n",
    "            bookName = input('교재이름을 입력하세요: ')\n",
    "            subjectName = input('과목명을 입력하세요: ')\n",
    "            print('(형식 : XXXX.XX.XX.)')\n",
    "            startDate=input('검색기간의 시작 날짜를 입력하세요: ')\n",
    "            endDate=input('검색기간의 종료 날짜를 입력하세요: ')\n",
    "            \n",
    "            try:\n",
    "                nObject = Naver_info.Naver(bookName, subjectName, startDate, endDate)\n",
    "                ntotal,njdy=nObject.crawlingData(bookName, subjectName, startDate, endDate)\n",
    "            except:\n",
    "                print('날짜의 포맷을 맞춰 정확히 입력하세요')\n",
    "            else:\n",
    "                dftoCSV('지식인',ntotal,njdy,bookName, subjectName,startDate,endDate)\n",
    "\n",
    "\n",
    "    #오르비 \n",
    "        if num == 2:\n",
    "            print('*** 오르비 사이트에서 크롤링을 시작합니다 ***')\n",
    "            bookName = input('교재이름을 입력하세요: ')\n",
    "            subjectName = input('과목명을 입력하세요: ')\n",
    "            print('(형식 : XXXX.XX.XX.)')       \n",
    "            startDate=input('검색기간의 시작 날짜를 입력하세요: ')\n",
    "            endDate=input('검색기간의 종료 날짜를 입력하세요: ')\n",
    "            \n",
    "            try:\n",
    "                oObject = OrbiInfo.Orbi(bookName, subjectName,startDate,endDate)\n",
    "                ototal,ojdy=oObject.crawlingData(bookName,subjectName,startDate,endDate)\n",
    "            except:\n",
    "                print('날짜의 포맷을 맞춰 정확히 입력하세요')\n",
    "            else:\n",
    "                dftoCSV('오르비',ototal,ojdy,bookName, subjectName,startDate,endDate)\n",
    "    \n",
    "    #수만휘\n",
    "        if num == 3:\n",
    "            print('*** 수만휘 사이트에서 크롤링을 시작합니다 ***')            \n",
    "            bookName = input('교재이름을 입력하세요: ')\n",
    "            subjectName = input('과목명을 입력하세요: ')\n",
    "\n",
    "            \n",
    "            try:    \n",
    "                print('(형식 : XXXX-XX-XX)')\n",
    "                startDate=input('검색기간의 시작 날짜를 입력하세요: ')\n",
    "                endDate=input('검색기간의 종료 날짜를 입력하세요: ')\n",
    "                \n",
    "                if startDate[4] != '-':\n",
    "                    raise Exception\n",
    "                if startDate[7] != '-':               \n",
    "                    raise Exception\n",
    "            except Exception:\n",
    "                    print('날짜의 포맷을 맞춰 정확히 입력하세요')\n",
    "            else:   \n",
    "                sObject = Sumanhui_info.Sumanhui(bookName, subjectName, startDate, endDate)        \n",
    "                list1,df=sObject.crawlingData(bookName, subjectName, startDate, endDate)\n",
    "                sObject.dftoCSV(list1,df,bookName, subjectName, startDate, endDate)      \n"
   ]
  },
  {
   "cell_type": "code",
   "execution_count": 3,
   "metadata": {},
   "outputs": [
    {
     "name": "stdout",
     "output_type": "stream",
     "text": [
      "(지식인:1, 오르비:2, 수만휘:3)\n",
      "사용하고자 하는 사이트의 번호를 입력하세요: 3\n",
      "*** 수만휘 사이트에서 크롤링을 시작합니다 ***\n",
      "교재이름을 입력하세요: 수능특강\n",
      "과목명을 입력하세요: 국어\n",
      "(형식 : XXXX-XX-XX)\n",
      "검색기간의 시작 날짜를 입력하세요: 2017.02.01.\n",
      "검색기간의 종료 날짜를 입력하세요: 2017.02.12.\n",
      "날짜의 포맷을 맞춰 정확히 입력하세요\n"
     ]
    }
   ],
   "source": [
    "main()"
   ]
  },
  {
   "cell_type": "code",
   "execution_count": null,
   "metadata": {},
   "outputs": [],
   "source": []
  }
 ],
 "metadata": {
  "kernelspec": {
   "display_name": "Python 3",
   "language": "python",
   "name": "python3"
  },
  "language_info": {
   "codemirror_mode": {
    "name": "ipython",
    "version": 3
   },
   "file_extension": ".py",
   "mimetype": "text/x-python",
   "name": "python",
   "nbconvert_exporter": "python",
   "pygments_lexer": "ipython3",
   "version": "3.7.0"
  }
 },
 "nbformat": 4,
 "nbformat_minor": 2
}
