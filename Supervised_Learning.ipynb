{
 "cells": [
  {
   "cell_type": "code",
   "execution_count": 1,
   "metadata": {},
   "outputs": [
    {
     "name": "stderr",
     "output_type": "stream",
     "text": [
      "C:\\Anaconda3\\envs\\konlpy\\lib\\site-packages\\gensim\\utils.py:1209: UserWarning: detected Windows; aliasing chunkize to chunkize_serial\n",
      "  warnings.warn(\"detected Windows; aliasing chunkize to chunkize_serial\")\n"
     ]
    }
   ],
   "source": [
    "from Preprocessor import Preprocessor\n",
    "\n",
    "#FilterReview\n",
    "from sklearn.model_selection import train_test_split \n",
    "from sklearn.naive_bayes import GaussianNB \n",
    "from sklearn import metrics \n",
    "from sklearn.metrics import accuracy_score\n",
    "import numpy as np\n",
    "import pandas as pd\n",
    "import pickle \n",
    "import os.path\n",
    "\n",
    "'''\n",
    "readCSV :CSV 파일을 읽는다. 고정포맷이 정해짐 \n",
    "trainModel(ts =0.25): 입력된 모델에서 학습시킨다. ts 테스트 케이스 \n",
    "predict(): 학습시킨 모델에 test데이터가 입력되면 예측한다. \n",
    "writePredictionResult(): 예측 결과를 파일로 출력한다. \n",
    "'''\n",
    "class FilterReviewSV:\n",
    "    def __init__(self):\n",
    "        \n",
    "        self.model_filename = 'model/FilterReviewSV_model'\n",
    "        self.isSetModel = False\n",
    "        if not(self.isSetModel) and os.path.isfile(self.model_filename+'.sav'):\n",
    "            print('모델을 불러오는중...')\n",
    "            self.gnb = pickle.load(open(self.model_filename+'.sav', 'rb'))\n",
    "            \n",
    "    def input_X(self, para):\n",
    "        pre = Preprocessor()\n",
    "        #print(para)\n",
    "        pre.setPara(para)\n",
    "        #print(pre.sentences)\n",
    "        self.X = pre.transVector()\n",
    "    def input_Y(self, result):\n",
    "        self.Y = result\n",
    "        \n",
    "    def readCSV(self,filename,tag=True):\n",
    "        self.data = pd.read_csv(filename,engine='python')\n",
    "        self.X_content = self.data['sentence'].values\n",
    "        self.input_X(self.X_content)\n",
    "        if tag == True:\n",
    "            self.input_Y(self.data['label'].values)\n",
    "        \n",
    "    def trainModel(self,ts):\n",
    "        self.X_train,self.X_test,self.y_train,self.y_test=train_test_split(self.X,self.Y,test_size=ts)\n",
    "        self.gnb = GaussianNB()\n",
    "        self.y_pred = self.gnb.fit(self.X_train, self.y_train).predict(self.X_test)\n",
    "\n",
    "        # 테스트 socre 확인\n",
    "        print(\"Number of right labeled points out of a total %d points : %.2f %%\"\n",
    "      % (len(self.y_test),100*(len(self.y_test)-(self.y_test != self.y_pred).sum())/len(self.y_test)))\n",
    "        \n",
    "        pickle.dump(self.gnb, open(self.model_filename+'.sav', 'wb'))\n",
    "        isSetModel = True\n",
    "    def predict(self):\n",
    "        self.y_pred = self.gnb.predict(self.X)\n",
    "        self.df = pd.DataFrame({'pr_label':self.y_pred, 'sentence':self.X_content})\n",
    "        return self.y_pred\n",
    "    def writePredictionResult(self, filename):\n",
    "        self.df.to_csv(filename,encoding='utf-8-sig',index=False)\n",
    "        \n"
   ]
  },
  {
   "cell_type": "code",
   "execution_count": 2,
   "metadata": {},
   "outputs": [
    {
     "name": "stdout",
     "output_type": "stream",
     "text": [
      "folder: ./data2\\2015\n",
      "input_file:  data2\\2015\\오르비_content_수능특강_화학 _2015.01.01. ~ 2015.12.31._split.csv\n",
      "\\n Readed\\n\n",
      "모델을 불러오는중...\n"
     ]
    },
    {
     "name": "stderr",
     "output_type": "stream",
     "text": [
      "C:\\Anaconda3\\envs\\konlpy\\lib\\site-packages\\sklearn\\base.py:311: UserWarning: Trying to unpickle estimator GaussianNB from version 0.19.1 when using version 0.19.2. This might lead to breaking code or invalid results. Use at your own risk.\n",
      "  UserWarning)\n"
     ]
    },
    {
     "name": "stdout",
     "output_type": "stream",
     "text": [
      "folder: ./data2\\2016\n",
      "input_file:  data2\\2016\\오르비_content_수능특강_화학 _2016-01-01 ~ 2016-12-31_split.csv\n",
      "\\n Readed\\n\n",
      "모델을 불러오는중...\n",
      "folder: ./data2\\2017\n",
      "input_file:  data2\\2017\\오르비_content_수능특강_화학 _2017-01-01 ~ 2017-12-31_split.csv\n",
      "\\n Readed\\n\n",
      "모델을 불러오는중...\n"
     ]
    }
   ],
   "source": [
    "import glob\n",
    "import os\n",
    "\n",
    "#fr.readCSV(tag=False,filename='Data_ReviewFilter/TrainData.csv')\n",
    "#print('\\\\n Readed\\\\n')\n",
    "#fr.trainModel(ts=0.25)\n",
    "\n",
    "folderlist = glob.glob('./data2/*')\n",
    "for fol in folderlist:\n",
    "    if os.path.isdir(fol):\n",
    "        print('folder:',fol)\n",
    "      \n",
    "        filelist = glob.glob(fol+'/*.csv')\n",
    "        for file in filelist:\n",
    "            input_file = file.replace('\\\\\\\\','/')\n",
    "            input_path = input_file[2:]\n",
    "            print('input_file: ',input_path)\n",
    "            print('\\\\n Readed\\\\n')\n",
    "    \n",
    "            fr = FilterReviewSV()\n",
    "            fr.readCSV(tag=False,filename=input_path)\n",
    "            fr.predict()\n",
    "            output_file= 'labeled_'+input_path[11:]\n",
    "            fr.writePredictionResult(output_file)"
   ]
  }
 ],
 "metadata": {
  "kernelspec": {
   "display_name": "Python 3",
   "language": "python",
   "name": "python3"
  },
  "language_info": {
   "codemirror_mode": {
    "name": "ipython",
    "version": 3
   },
   "file_extension": ".py",
   "mimetype": "text/x-python",
   "name": "python",
   "nbconvert_exporter": "python",
   "pygments_lexer": "ipython3",
   "version": "3.7.0"
  }
 },
 "nbformat": 4,
 "nbformat_minor": 2
}
