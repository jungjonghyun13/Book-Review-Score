{
 "cells": [
  {
   "cell_type": "code",
   "execution_count": 52,
   "metadata": {},
   "outputs": [],
   "source": [
    "from Preprocessor import Preprocessor\n",
    "\n",
    "#FilterReview\n",
    "from sklearn.model_selection import train_test_split \n",
    "from sklearn.naive_bayes import GaussianNB \n",
    "from sklearn.linear_model import LogisticRegression\n",
    "from sklearn import metrics \n",
    "from sklearn.metrics import accuracy_score\n",
    "from sklearn.feature_extraction.text import TfidfVectorizer\n",
    "from konlpy.tag import Twitter\n",
    "import numpy as np\n",
    "import pandas as pd\n",
    "import pickle \n",
    "import os.path\n",
    "\n",
    "'''\n",
    "readCSV :CSV 파일을 읽는다. 고정포맷이 정해짐 \n",
    "trainModel(ts =0.25): 입력된 모델에서 학습시킨다. ts 테스트 케이스 \n",
    "predict(): 학습시킨 모델에 test데이터가 입력되면 예측한다. \n",
    "writePredictionResult(): 예측 결과를 파일로 출력한다. \n",
    "'''\n",
    "twitter = Twitter()\n",
    "def tw_tokenizer(text):\n",
    "    # 입력 인자로 들어온 text 를 형태소 단어로 토큰화 하여 list 객체 반환\n",
    "    tokens_ko = twitter.morphs(text)\n",
    "    return tokens_ko\n",
    "\n",
    "class FilterReviewSV:\n",
    "    def __init__(self):\n",
    "        self.model_lr_clf_name = 'model/model_lr_clf.sav'\n",
    "        self.model_tfidf_vect_name = 'model/model_tfidf_vect.sav'\n",
    "        \n",
    "        self.isSetModel = False\n",
    "        if not(self.isSetModel) and os.path.isfile(self.model_lr_clf_name) and os.path.isfile(self.model_tfidf_vect_name):\n",
    "            print('모델을 불러오는중...')\n",
    "            self.model_lr_clf = pickle.load(open(self.model_lr_clf_name, 'rb'))\n",
    "            self.model_tfidf_vect = pickle.load(open(self.model_tfidf_vect_name, 'rb'))\n",
    "            isSetModel = True\n",
    "        else:\n",
    "            print('모델이 없습니다..')\n",
    "            \n",
    "\n",
    "    def trainModel(self,filename,ts):\n",
    "        data_df = pd.read_csv(filename,engine='python')\n",
    "        X_train,X_test,y_train,y_test=train_test_split(data_df['sentence'],data_df['label'],test_size=0.25)\n",
    "        self.model_tfidf_vect = TfidfVectorizer(tokenizer=tw_tokenizer, ngram_range=(1,2), min_df=3, max_df=0.9)\n",
    "        self.model_tfidf_vect.fit(X_train)\n",
    "        \n",
    "        X_train_tfidf_vect = self.model_tfidf_vect.transform(X_train)\n",
    "        X_test_tfidf_vect = self.model_tfidf_vect.transform(X_test)\n",
    "\n",
    "        self.model_lr_clf = LogisticRegression(random_state=156)\n",
    "        self.model_lr_clf.fit(X_train_tfidf_vect , y_train)\n",
    "        pred = self.model_lr_clf.predict(X_test_tfidf_vect)\n",
    "        print('TF-IDF Vectorized Logistic Regression 의 예측 정확도는 {0:.3f}'.format(accuracy_score(y_test ,pred)))\n",
    "\n",
    "        pickle.dump(self.model_lr_clf, open(self.model_lr_clf_name, 'wb'))\n",
    "        pickle.dump(self.model_tfidf_vect, open(self.model_tfidf_vect_name, 'wb'))\n",
    "        isSetModel = True\n",
    "    def readCSV(self,filename):\n",
    "        self.data_df = pd.read_csv(filename,engine='python')\n",
    "        self.test_df_tfidf_vect = self.model_tfidf_vect.transform(self.data_df['sentence'])\n",
    "        \n",
    "    def predict(self):\n",
    "        self.y_pred = self.model_lr_clf.predict(self.test_df_tfidf_vect)\n",
    "        self.df = pd.DataFrame({'pr_label':self.y_pred, 'sentence':self.data_df['sentence']})\n",
    "        return self.y_pred\n",
    "    def writePredictionResult(self, filename):\n",
    "        self.df.to_csv(filename,encoding='utf-8-sig',index=False)\n",
    "        \n"
   ]
  },
  {
   "cell_type": "code",
   "execution_count": 53,
   "metadata": {},
   "outputs": [
    {
     "name": "stdout",
     "output_type": "stream",
     "text": [
      "모델을 불러오는중...\n",
      "TF-IDF Vectorized Logistic Regression 의 예측 정확도는 0.787\n"
     ]
    }
   ],
   "source": [
    "fr = FilterReviewSV()\n",
    "fr.trainModel(filename='MovieReview/MR_test2.csv',ts=0.25)"
   ]
  },
  {
   "cell_type": "code",
   "execution_count": 54,
   "metadata": {},
   "outputs": [
    {
     "name": "stdout",
     "output_type": "stream",
     "text": [
      "모델을 불러오는중...\n"
     ]
    }
   ],
   "source": [
    "fr = FilterReviewSV()\n",
    "fr.readCSV(filename='MovieReview/MR_test.csv')\n",
    "fr.predict()\n",
    "\n",
    "fr.writePredictionResult('sample.csv')\n",
    "#print(fr.y_pred)"
   ]
  },
  {
   "cell_type": "code",
   "execution_count": null,
   "metadata": {},
   "outputs": [],
   "source": []
  },
  {
   "cell_type": "code",
   "execution_count": 9,
   "metadata": {},
   "outputs": [
    {
     "name": "stdout",
     "output_type": "stream",
     "text": [
      "모델을 불러오는중...\n",
      "['아 더빙.. 진짜 짜증나네요 목소리' '흠...포스터보고 초딩영화줄....오버연기조차 가볍지 않구나'\n",
      " '너무재밓었다그래서보는것을추천한다' ... '그림도 좋고 완성도도 높았지만... 보는 내내 불안하게 만든다'\n",
      " '절대 봐서는 안 될 영화.. 재미도 없고 기분만 잡치고.. 한 세트장에서 다 해먹네' '마무리는 또 왜이래']\n",
      "['아 더빙.. 진짜 짜증나네요 목소리' '흠...포스터보고 초딩영화줄....오버연기조차 가볍지 않구나'\n",
      " '너무재밓었다그래서보는것을추천한다' ... '그림도 좋고 완성도도 높았지만... 보는 내내 불안하게 만든다'\n",
      " '절대 봐서는 안 될 영화.. 재미도 없고 기분만 잡치고.. 한 세트장에서 다 해먹네' '마무리는 또 왜이래']\n"
     ]
    }
   ],
   "source": [
    "fr = FilterReviewSV()\n",
    "fr.readCSV(tag=True,filename='MovieReview/MovieReview.csv', save=True)"
   ]
  },
  {
   "cell_type": "code",
   "execution_count": 10,
   "metadata": {},
   "outputs": [
    {
     "name": "stdout",
     "output_type": "stream",
     "text": [
      "모델을 불러오는중...\n",
      "Number of right labeled points out of a total 49998 points : 0.6746 %\n"
     ]
    }
   ],
   "source": [
    "fr = FilterReviewSV()\n",
    "fr.transDataLoad(tag=True)\n",
    "fr.trainModel(ts=0.25)"
   ]
  },
  {
   "cell_type": "code",
   "execution_count": 12,
   "metadata": {
    "scrolled": false
   },
   "outputs": [
    {
     "name": "stdout",
     "output_type": "stream",
     "text": [
      "모델을 불러오는중...\n",
      "['아 더빙.. 진짜 짜증나네요 목소리' '흠...포스터보고 초딩영화줄....오버연기조차 가볍지 않구나'\n",
      " '너무재밓었다그래서보는것을추천한다' '교도소 이야기구먼 ..솔직히 재미는 없다..평점 조정'\n",
      " '사이몬페그의 익살스런 연기가 돋보였던 영화!스파이더맨에서 늙어보이기만 했던 커스틴 던스트가 너무나도 이뻐보였다'\n",
      " '막 걸음마 뗀 3세부터 초등학교 1학년생인 8살용영화.ㅋㅋㅋ...별반개도 아까움.' '원작의 긴장감을 제대로 살려내지못했다.'\n",
      " '별 반개도 아깝다 욕나온다 이응경 길용우 연기생활이몇년인지..정말 발로해도 그것보단 낫겟다 납치.감금만반복반복..이드라마는 가족도없다 연기못하는사람만모엿네'\n",
      " '액션이 없는데도 재미 있는 몇안되는 영화' '왜케 평점이 낮은건데? 꽤 볼만한데.. 헐리우드식 화려함에만 너무 길들여져 있나?'\n",
      " '걍인피니트가짱이다.진짜짱이다♥' '볼때마다 눈물나서 죽겠다90년대의 향수자극!!허진호는 감성절제멜로의 달인이다~']\n",
      "['아 더빙.. 진짜 짜증나네요 목소리' '흠...포스터보고 초딩영화줄....오버연기조차 가볍지 않구나'\n",
      " '너무재밓었다그래서보는것을추천한다' '교도소 이야기구먼 ..솔직히 재미는 없다..평점 조정'\n",
      " '사이몬페그의 익살스런 연기가 돋보였던 영화!스파이더맨에서 늙어보이기만 했던 커스틴 던스트가 너무나도 이뻐보였다'\n",
      " '막 걸음마 뗀 3세부터 초등학교 1학년생인 8살용영화.ㅋㅋㅋ...별반개도 아까움.' '원작의 긴장감을 제대로 살려내지못했다.'\n",
      " '별 반개도 아깝다 욕나온다 이응경 길용우 연기생활이몇년인지..정말 발로해도 그것보단 낫겟다 납치.감금만반복반복..이드라마는 가족도없다 연기못하는사람만모엿네'\n",
      " '액션이 없는데도 재미 있는 몇안되는 영화' '왜케 평점이 낮은건데? 꽤 볼만한데.. 헐리우드식 화려함에만 너무 길들여져 있나?'\n",
      " '걍인피니트가짱이다.진짜짱이다♥' '볼때마다 눈물나서 죽겠다90년대의 향수자극!!허진호는 감성절제멜로의 달인이다~']\n"
     ]
    }
   ],
   "source": []
  },
  {
   "cell_type": "code",
   "execution_count": null,
   "metadata": {},
   "outputs": [],
   "source": []
  },
  {
   "cell_type": "code",
   "execution_count": null,
   "metadata": {},
   "outputs": [],
   "source": []
  }
 ],
 "metadata": {
  "kernelspec": {
   "display_name": "Python 3",
   "language": "python",
   "name": "python3"
  },
  "language_info": {
   "codemirror_mode": {
    "name": "ipython",
    "version": 3
   },
   "file_extension": ".py",
   "mimetype": "text/x-python",
   "name": "python",
   "nbconvert_exporter": "python",
   "pygments_lexer": "ipython3",
   "version": "3.6.4"
  }
 },
 "nbformat": 4,
 "nbformat_minor": 2
}
