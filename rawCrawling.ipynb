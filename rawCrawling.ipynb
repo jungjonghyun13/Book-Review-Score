{
 "cells": [
  {
   "cell_type": "code",
   "execution_count": 1,
   "metadata": {},
   "outputs": [],
   "source": [
    "import requests, operator, glob2\n",
    "from pandas import DataFrame\n",
    "import pandas as pd\n",
    "from bs4 import BeautifulSoup\n",
    "from datetime import datetime\n",
    "from math import ceil\n",
    "import Naver_info\n",
    "import OrbiInfo\n",
    "import Sumanhui_info"
   ]
  },
  {
   "cell_type": "code",
   "execution_count": 2,
   "metadata": {},
   "outputs": [],
   "source": [
    "#크롤링 데이터 csv 파일 생성\n",
    "def dftoCSV(site,df1,df2,s1,s2,d1,d2):\n",
    "    df1.to_csv(site+'_content_'+s1+'_'+s2+' _'+d1+' ~ '+d2+'.csv', encoding='utf-8-sig', index=False)\n",
    "    df2.to_csv(site+'_value_'+s1+'_'+s2+' _'+d1+' ~ '+d2+'.csv', encoding='utf-8-sig', index=False)\n",
    "    print(\"------파일 생성------\")\n",
    "    \n",
    "\n",
    "def main():   \n",
    "    num = int(input(\"사이트를 선정해주세요 '('지식인:1, 오르비:2, 수만휘:3')'\"))\n",
    "    \n",
    "    #네이버 지식인\n",
    "    if num == 1:\n",
    "        bookName=\"수능특강\"\n",
    "        subjectName=\"국어\"\n",
    "        startDate=\"2017.01.01.\"\n",
    "        endDate=\"2017.01.03.\"\n",
    "        \n",
    "        nObject = Naver_info.Naver(bookName, subjectName, startDate, endDate)\n",
    "        ntotal,njdy=nObject.crawlingData(bookName, subjectName, startDate, endDate)\n",
    "    \n",
    "        dftoCSV('지식인',ntotal,njdy,bookName, subjectName,startDate,endDate)\n",
    "    \n",
    "    #오르비 \n",
    "    if num == 2:\n",
    "        bookName=\"수능특강\"\n",
    "        subjectName=\"국어\"\n",
    "        startDate=\"2017.01.01.\"\n",
    "        endDate=\"2017.01.30.\"\n",
    "        \n",
    "        oObject = OrbiInfo.Orbi(bookName, subjectName,startDate,endDate)\n",
    "        ototal,ojdy=oObject.crawlingData(bookName,subjectName,startDate,endDate)\n",
    "        \n",
    "        dftoCSV('오르비',ototal,ojdy,bookName, subjectName,startDate,endDate) \n",
    "    \n",
    "    #수만휘\n",
    "    if num == 3:\n",
    "        bookName=\"수능특강\"\n",
    "        subjectName=\"국어\"\n",
    "        startDate=\"2017-01-01\"\n",
    "        endDate=\"2017-01-30\"\n",
    "        \n",
    "        sObject = Sumanhui_info.Sumanhui(bookName, subjectName, startDate, endDate)        \n",
    "        list1,df=sObject.crawlingData(bookName, subjectName, startDate, endDate)\n",
    "        \n",
    "        sObject.dftoCSV(list1,df,bookName, subjectName, startDate, endDate)\n"
   ]
  },
  {
   "cell_type": "code",
   "execution_count": 3,
   "metadata": {},
   "outputs": [
    {
     "name": "stdout",
     "output_type": "stream",
     "text": [
      "사이트를 선정해주세요 '('지식인:1, 오르비:2, 수만휘:3')'1\n",
      "------파일 생성------\n"
     ]
    }
   ],
   "source": [
    "main()"
   ]
  },
  {
   "cell_type": "code",
   "execution_count": null,
   "metadata": {},
   "outputs": [],
   "source": []
  }
 ],
 "metadata": {
  "kernelspec": {
   "display_name": "Python 3",
   "language": "python",
   "name": "python3"
  },
  "language_info": {
   "codemirror_mode": {
    "name": "ipython",
    "version": 3
   },
   "file_extension": ".py",
   "mimetype": "text/x-python",
   "name": "python",
   "nbconvert_exporter": "python",
   "pygments_lexer": "ipython3",
   "version": "3.7.0"
  }
 },
 "nbformat": 4,
 "nbformat_minor": 2
}
