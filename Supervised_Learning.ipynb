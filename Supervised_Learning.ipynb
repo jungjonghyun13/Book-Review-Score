{
 "cells": [
  {
   "cell_type": "code",
   "execution_count": 68,
   "metadata": {},
   "outputs": [],
   "source": [
    "from Preprocessor import Preprocessor\n",
    "\n",
    "#FilterReview\n",
    "from sklearn.model_selection import train_test_split \n",
    "from sklearn.naive_bayes import GaussianNB \n",
    "from sklearn import metrics \n",
    "from sklearn.metrics import accuracy_score\n",
    "import numpy as np\n",
    "import pandas as pd\n",
    "import pickle \n",
    "import os.path\n",
    "\n",
    "'''\n",
    "readCSV :CSV 파일을 읽는다. 고정포맷이 정해짐 \n",
    "trainModel(ts =0.25): 입력된 모델에서 학습시킨다. ts 테스트 케이스 \n",
    "predict(): 학습시킨 모델에 test데이터가 입력되면 예측한다. \n",
    "writePredictionResult(): 예측 결과를 파일로 출력한다. \n",
    "'''\n",
    "class FilterReviewSV:\n",
    "    def __init__(self):\n",
    "        \n",
    "        self.model_filename = 'model/FilterReviewSV_model'\n",
    "        self.isSetModel = False\n",
    "        if not(self.isSetModel) and os.path.isfile(self.model_filename+'.sav'):\n",
    "            print('모델을 불러오는중...')\n",
    "            self.gnb = pickle.load(open(self.model_filename+'.sav', 'rb'))\n",
    "            \n",
    "    def input_X(self, para):\n",
    "        pre = Preprocessor()\n",
    "        print(para)\n",
    "        pre.setPara(para)\n",
    "        print(pre.sentences)\n",
    "        self.X = pre.transVector()\n",
    "    def input_Y(self, result):\n",
    "        self.Y = result\n",
    "        \n",
    "    def readCSV(self,filename,tag=True):\n",
    "        self.data = pd.read_csv(filename,engine='python')\n",
    "        self.X_content = self.data['sentence'].values\n",
    "        self.input_X(self.X_content)\n",
    "        if tag == True:\n",
    "            self.input_Y(self.data['label'].values)\n",
    "        \n",
    "    def trainModel(self,ts):\n",
    "        self.X_train,self.X_test,self.y_train,self.y_test=train_test_split(self.X,self.Y,test_size=ts)\n",
    "        self.gnb = GaussianNB()\n",
    "        self.y_pred = self.gnb.fit(self.X_train, self.y_train).predict(self.X_test)\n",
    "\n",
    "        # 테스트 socre 확인\n",
    "        print(\"Number of right labeled points out of a total %d points : %.2f %%\"\n",
    "      % (len(self.y_test),100*(len(self.y_test)-(self.y_test != self.y_pred).sum())/len(self.y_test)))\n",
    "        \n",
    "        pickle.dump(self.gnb, open(self.model_filename+'.sav', 'wb'))\n",
    "        isSetModel = True\n",
    "    def predict(self):\n",
    "        self.y_pred = self.gnb.predict(self.X)\n",
    "        self.df = pd.DataFrame({'p_label':self.y_pred, 'sentence':self.X_content})\n",
    "        return self.y_pred\n",
    "    def writePredictionResult(self, filename):\n",
    "        self.df.to_csv(filename,encoding='utf-8-sig')\n",
    "        \n"
   ]
  },
  {
   "cell_type": "code",
   "execution_count": null,
   "metadata": {
    "scrolled": true
   },
   "outputs": [
    {
     "name": "stdout",
     "output_type": "stream",
     "text": [
      "모델을 불러오는중...\n",
      "['아 더빙.. 진짜 짜증나네요 목소리' '흠...포스터보고 초딩영화줄....오버연기조차 가볍지 않구나'\n",
      " '너무재밓었다그래서보는것을추천한다' ... '수학을 거의 반영하지 않는 곳에 가려고 하는데 읽어 주셔서 감사합니다'\n",
      " '친 절한 답변 부탁합니다' '예비고 3 질문']\n",
      "['아 더빙.. 진짜 짜증나네요 목소리' '흠...포스터보고 초딩영화줄....오버연기조차 가볍지 않구나'\n",
      " '너무재밓었다그래서보는것을추천한다' ... '수학을 거의 반영하지 않는 곳에 가려고 하는데 읽어 주셔서 감사합니다'\n",
      " '친 절한 답변 부탁합니다' '예비고 3 질문']\n"
     ]
    }
   ],
   "source": [
    "fr = FilterReviewSV()\n",
    "fr.readCSV(tag=True,filename='Data_ReviewFilter/TrainData.csv')\n",
    "print('\\n Readed\\n')\n",
    "fr.trainModel(ts=0.25)\n",
    "\n",
    "#fr.readCSV(tag=False,filename='Test.csv')\n",
    "#fr.predict()\n",
    "\n",
    "#fr.writePredictionResult('sample.csv')\n",
    "#print(fr.y_pred)"
   ]
  },
  {
   "cell_type": "code",
   "execution_count": null,
   "metadata": {},
   "outputs": [],
   "source": []
  },
  {
   "cell_type": "code",
   "execution_count": null,
   "metadata": {},
   "outputs": [],
   "source": []
  }
 ],
 "metadata": {
  "kernelspec": {
   "display_name": "Python 3",
   "language": "python",
   "name": "python3"
  },
  "language_info": {
   "codemirror_mode": {
    "name": "ipython",
    "version": 3
   },
   "file_extension": ".py",
   "mimetype": "text/x-python",
   "name": "python",
   "nbconvert_exporter": "python",
   "pygments_lexer": "ipython3",
   "version": "3.6.4"
  }
 },
 "nbformat": 4,
 "nbformat_minor": 2
}
