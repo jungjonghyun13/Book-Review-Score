{
 "cells": [
  {
   "cell_type": "code",
   "execution_count": 1,
   "metadata": {},
   "outputs": [
    {
     "name": "stderr",
     "output_type": "stream",
     "text": [
      "C:\\Users\\yooso\\Anaconda\\lib\\site-packages\\gensim\\utils.py:1209: UserWarning: detected Windows; aliasing chunkize to chunkize_serial\n",
      "  warnings.warn(\"detected Windows; aliasing chunkize to chunkize_serial\")\n",
      "C:\\Users\\yooso\\Anaconda\\lib\\site-packages\\konlpy\\tag\\_okt.py:16: UserWarning: \"Twitter\" has changed to \"Okt\" since KoNLPy v0.4.5.\n",
      "  warn('\"Twitter\" has changed to \"Okt\" since KoNLPy v0.4.5.')\n"
     ]
    },
    {
     "name": "stdout",
     "output_type": "stream",
     "text": [
      "['1']\n",
      "['0']\n",
      "['1']\n",
      "['1']\n"
     ]
    },
    {
     "name": "stderr",
     "output_type": "stream",
     "text": [
      "C:\\Users\\yooso\\Anaconda\\lib\\site-packages\\gensim\\models\\doc2vec.py:531: UserWarning: The parameter `iter` is deprecated, will be removed in 4.0.0, use `epochs` instead.\n",
      "  warnings.warn(\"The parameter `iter` is deprecated, will be removed in 4.0.0, use `epochs` instead.\")\n",
      "C:\\Users\\yooso\\Anaconda\\lib\\site-packages\\gensim\\models\\doc2vec.py:535: UserWarning: The parameter `size` is deprecated, will be removed in 4.0.0, use `vector_size` instead.\n",
      "  warnings.warn(\"The parameter `size` is deprecated, will be removed in 4.0.0, use `vector_size` instead.\")\n"
     ]
    }
   ],
   "source": [
    "from collections import namedtuple\n",
    "from gensim.models import doc2vec\n",
    "from konlpy.tag import Twitter\n",
    "import multiprocessing\n",
    "from pprint import pprint\n",
    "from gensim.models import Doc2Vec\n",
    "from sklearn.linear_model import LogisticRegression\n",
    "import numpy\n",
    "import pickle\n",
    "\n",
    "twitter = Twitter()\n",
    "\n",
    "def read_data(filename):\n",
    "    with open(filename, 'r',encoding=\"utf-8\") as f:\n",
    "        data = [line.split('\\t') for line in f.read().splitlines()]\n",
    "    return data\n",
    "\n",
    "def tokenize(doc):\n",
    "  # norm, stem은 optional\n",
    "  return ['/'.join(t) for t in twitter.pos(doc, norm=True, stem=True)]\n",
    "\n",
    "\n",
    "# 실제 구동 데이터를 읽기\n",
    "run_data = read_data('data/ratings_run.txt')\n",
    "\n",
    "# 형태소 분류\n",
    "run_docs = [(tokenize(row[1]), row[2]) for row in run_data[1:]]\n",
    "\n",
    "# doc2vec 에서 필요한 데이터 형식으로 변경\n",
    "TaggedDocument = namedtuple('TaggedDocument', 'words tags')\n",
    "tagged_run_docs = [TaggedDocument(d, [c]) for d, c in run_docs]\n",
    "\n",
    "# load train data\n",
    "doc_vectorizer = Doc2Vec.load('model/doc2vec.model')\n",
    "\n",
    "# 분류를 위한 피쳐 생성\n",
    "run_x = [doc_vectorizer.infer_vector(doc.words) for doc in tagged_run_docs]\n",
    "run_y = [doc.tags[0] for doc in tagged_run_docs]\n",
    "\n",
    "# load the model from disk\n",
    "filename = 'model/finalized_model.sav'\n",
    "\n",
    "# 실제 분류 확인\n",
    "loaded_model = pickle.load(open(filename, 'rb'))\n",
    "print(loaded_model.predict(run_x[0].reshape(1, -1)))\n",
    "print(loaded_model.predict(run_x[1].reshape(1, -1)))\n",
    "print(loaded_model.predict(run_x[2].reshape(1, -1)))\n",
    "print(loaded_model.predict(run_x[3].reshape(1, -1)))\n"
   ]
  },
  {
   "cell_type": "code",
   "execution_count": null,
   "metadata": {},
   "outputs": [],
   "source": []
  },
  {
   "cell_type": "code",
   "execution_count": null,
   "metadata": {},
   "outputs": [],
   "source": []
  }
 ],
 "metadata": {
  "kernelspec": {
   "display_name": "Python 3",
   "language": "python",
   "name": "python3"
  },
  "language_info": {
   "codemirror_mode": {
    "name": "ipython",
    "version": 3
   },
   "file_extension": ".py",
   "mimetype": "text/x-python",
   "name": "python",
   "nbconvert_exporter": "python",
   "pygments_lexer": "ipython3",
   "version": "3.6.5"
  }
 },
 "nbformat": 4,
 "nbformat_minor": 2
}
