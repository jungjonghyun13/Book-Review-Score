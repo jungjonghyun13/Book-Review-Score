{
 "cells": [
  {
   "cell_type": "code",
   "execution_count": 1,
   "metadata": {},
   "outputs": [
    {
     "name": "stderr",
     "output_type": "stream",
     "text": [
      "C:\\Anaconda3\\envs\\konlpy\\lib\\site-packages\\gensim\\utils.py:1209: UserWarning: detected Windows; aliasing chunkize to chunkize_serial\n",
      "  warnings.warn(\"detected Windows; aliasing chunkize to chunkize_serial\")\n"
     ]
    }
   ],
   "source": [
    "from Preprocessor import Preprocessor\n",
    "\n",
    "#FilterReview\n",
    "from sklearn.model_selection import train_test_split \n",
    "from sklearn.naive_bayes import GaussianNB \n",
    "from sklearn.linear_model import LogisticRegression\n",
    "from sklearn import metrics \n",
    "from sklearn.metrics import accuracy_score\n",
    "import numpy as np\n",
    "import pandas as pd\n",
    "import pickle \n",
    "import os.path\n",
    "\n",
    "class SentimentAnalysis:\n",
    "    def __init__(self):\n",
    "        self.modelname = 'model/SentimentAnalysis_model.sav'\n",
    "        self.SA_X_name = 'model/SA_X.sav'\n",
    "        self.SA_Y_name = 'model/SA_Y.sav'\n",
    "        \n",
    "        if os.path.isfile(self.modelname ):\n",
    "            print('모델을 불러오는중...')\n",
    "            self.gnb = pickle.load(open(self.modelname , 'rb'))\n",
    "        else : \n",
    "            print('모델이 없습니다!!')\n",
    "            \n",
    "    def input_X(self, para):\n",
    "        pre = Preprocessor()\n",
    "        print(para)\n",
    "        pre.setPara(para)\n",
    "        self.X = pre.transVector()\n",
    "    def input_Y(self, result):\n",
    "        self.Y = result\n",
    "\n",
    "    def transDataLoad(self,tag = True):\n",
    "        self.X = pickle.load(open(self.SA_X_name , 'rb'))\n",
    "        if tag == True:\n",
    "            self.Y = pickle.load(open(self.SA_Y_name , 'rb'))\n",
    "        \n",
    "    def transDataSave(self, tag = True):\n",
    "        pickle.dump(self.X, open(self.SA_X_name, 'wb'))\n",
    "        if tag == True:\n",
    "            pickle.dump(self.Y, open(self.SA_Y_name, 'wb'))\n",
    "            \n",
    "    def readCSV(self,filename,tag=True, save=True):\n",
    "        self.data = pd.read_csv(filename,engine='python',encoding='utf-8-sig')\n",
    "        self.X_content = self.data['sentence'].values\n",
    "        self.input_X(self.X_content)\n",
    "        if tag == True:\n",
    "            self.input_Y(self.data['label'].values)\n",
    "            if save == True:\n",
    "                self.transDataSave(tag=True)\n",
    "        elif save == True:\n",
    "             self.transDataSave(tag=False)\n",
    "    def trainModel(self,ts):\n",
    "        self.X_train,self.X_test,self.y_train,self.y_test=train_test_split(self.X,self.Y,test_size=ts)\n",
    "        self.gnb = GaussianNB()\n",
    "        self.gnb = LogisticRegression(random_state=1234)\n",
    "        print('모델 훈련 중..')\n",
    "        self.y_pred = self.gnb.fit(self.X_train, self.y_train).predict(self.X_test)\n",
    "        print('모델 훈련 끝.')\n",
    "        \n",
    "        \n",
    "        # 테스트 socre 확인\n",
    "        print(\"Number of right labeled points out of a total %d points : %.4f %%\"\n",
    "      % (len(self.y_test),self.gnb.score(self.X_test, self.y_test)))\n",
    "        \n",
    "        pickle.dump(self.gnb, open(self.modelname , 'wb'))\n",
    "        isSetModel = True\n",
    "        \n",
    "        # gnb 55.62 %\n",
    "    def predict(self):\n",
    "        self.y_pred = self.gnb.predict(self.X)\n",
    "        self.df = pd.DataFrame({'ps_label':self.y_pred, 'sentence':self.X_content})\n",
    "        return self.y_pred\n",
    "    \n",
    "    def writePredictionResult(self, filename):\n",
    "        self.df.to_csv(filename,encoding='utf-8-sig',index=False)\n",
    "        \n",
    "    def printAVGScoreResult(self):\n",
    "        print('예측 평균 점수: ',self.df['ps_label'].mean(),'\\n')"
   ]
  },
  {
   "cell_type": "code",
   "execution_count": 2,
   "metadata": {},
   "outputs": [],
   "source": [
    "#sa = SentimentAnalysis()\n",
    "#sa.transDataLoad(tag=True)\n",
    "#sa.trainModel(ts=0.25)"
   ]
  },
  {
   "cell_type": "code",
   "execution_count": 12,
   "metadata": {
    "scrolled": true
   },
   "outputs": [
    {
     "name": "stdout",
     "output_type": "stream",
     "text": [
      "folder: ./labeled_data\\2015\n",
      "input_file:  labeled_data/2015/labeled_오르비_content_수능특강_화학 _2015.01.01. ~ 2015.12.31._split.csv\n",
      "\\n Readed\\n\n",
      "모델을 불러오는중...\n"
     ]
    },
    {
     "name": "stderr",
     "output_type": "stream",
     "text": [
      "C:\\Anaconda3\\envs\\konlpy\\lib\\site-packages\\sklearn\\base.py:311: UserWarning: Trying to unpickle estimator LogisticRegression from version 0.19.1 when using version 0.19.2. This might lead to breaking code or invalid results. Use at your own risk.\n",
      "  UserWarning)\n"
     ]
    },
    {
     "name": "stdout",
     "output_type": "stream",
     "text": [
      "['기출의 고백 추천합니다.' '? 현재 영어공부는 수능 연계 교재만 보고 있습니다.' '쉬는 시간에는 휴대폰을 보지 말아 주세요.'\n",
      " ... '유형에만 얽매이지 않는 유연한 학습이 더 중요합니다.'\n",
      " '그게 쌓이고 쌓인 뒤 마무리 기간 때쯤에 문득 다시 보면, 어떤 예상 문제가 어떤 페이지에 있었는지 까지 대충 다 파악이 되어 있는 상태로 변한 자신의 모습을 발견할 수 있을 거예요.'\n",
      " 'ㅠ 제가 못 찾는 건지..']\n",
      "output_file: classifed_labeled_오르비_content_수능특강_화학 _2015.01.01. ~ 2015.12.31._split.csv\n",
      "예측 평균 점수:  0.47034277198211627 \n",
      "\n",
      "folder: ./labeled_data\\2016\n",
      "input_file:  labeled_data/2016/labeled_오르비_content_수능특강_화학 _2016-01-01 ~ 2016-12-31_split.csv\n",
      "\\n Readed\\n\n",
      "모델을 불러오는중...\n",
      "['( 공부 법 칼럼을 따로 쓰긴 했지만) 요약하자면, 얕은 공부, 요행을 바라는 공부가 아닌, 본질적인 실력자체를 키울 수 있는 공부를 해야 하고, 수학문제는 절대 가려 풀지 않는다.'\n",
      " '정상인의 분극상태일 때 세포 내 양전하가 세포 외보다 상대적으로 적어서? - 전위차를 갖게 되는데 세포 외의 칼륨 농도가 감소하면 세포 내의 양전하가 상대적으로 많은 것이고 그럼 - 전 위 ( 음전 위) 의 크기가 감소하여 0에 가깝게 되거나 + 전 위를 가져야 하는 게 아닙니까?'\n",
      " '\" 요즘은 EBS에서 70% 가 연계되니까 EBS만 잘 봐도 성적 오를 거에요. \"14 년도 수능 시즌. 그 당시 만점 자 1% 정책은 폐지되었지만 교육부에서는 항상 EBS를 강조하고 또 강조했었다.'\n",
      " ...\n",
      " '월에 선 과 탐까지 완성되어 한 손으로 틀린 걸 셀 수 있는 경지에 도달했고, 영어 같은 경우엔 하나의 모의고사에서 막힌 문장표시할 것이 없는 경우까지 가더군요.'\n",
      " '화학은 케 미 옵티마? 이거 개정된 거 나오면 살 생각입니다.'\n",
      " '아래를 한번 보도록 하자 .Y 원자로도 한번 예측을 해보도록 하자 .A 분자 1개에 ?Y 원자 1개가 있을 경우 ?a= 4 이며 A 분자 1개에 ?Y 원자 2개가 있을 경우 ?a =2 이고 A 분자 1개에 ?Y 원자 4개가 있을 경우 ?a =1 이다.Y를']\n",
      "output_file: classifed_labeled_오르비_content_수능특강_화학 _2016-01-01 ~ 2016-12-31_split.csv\n",
      "예측 평균 점수:  0.44900446972775293 \n",
      "\n",
      "folder: ./labeled_data\\2017\n",
      "input_file:  labeled_data/2017/labeled_오르비_content_수능특강_화학 _2017-01-01 ~ 2017-12-31_split.csv\n",
      "\\n Readed\\n\n",
      "모델을 불러오는중...\n",
      "['라는 생각밖에 없었거든.'\n",
      " '월. 외조부 기일. 아직도 그 날을 생생히 기억해. 우리 외가가 좀 빵빵 해. 큰 외삼촌은 변호사에 고대 법대 향우회장이고, 그 딸은 서울대 국문과 나와서 기자하고 있어. 이모부는 한 분은 서울대 나오셔서 OB 라 거사장이 셨고 그 딸은 한명은 카 대 의대, 한명은 서울대 의류학과 야. 그 밑에 이모부는 고대 법대 나오셔서 청와대 정무실장을 지내시고 지금은 금감원 가 계셔. 그 분 아들은 대원 외고 나와서 지금 고대 법대 다니는데... 나랑 동갑이야.'\n",
      " '무슨 말이냐면, 스펀지에 물을 많이 부으면 대부분은 흘러내려가는데 저장은 조금씩 되잖아?' ...\n",
      " '다만 너무 지엽적인 것까지 동반하는 경우가 있으나 애국심으로 힘겹게 공부해서 1 등급을 쟁취하는 과목 5. 물리, 화학 그냥 모르겠다 처음 8 문제 정도는 쉬운 거 던져주고 대신 그 이후부터 출처 불명 혹은 기출에서 숫자만 바뀐 문제가 막 튀어나온다.'\n",
      " '그래서 7분 정도 남기고 마 킹하고 불안했던' '그러는 겁니까?']\n",
      "output_file: classifed_labeled_오르비_content_수능특강_화학 _2017-01-01 ~ 2017-12-31_split.csv\n",
      "예측 평균 점수:  0.4091639871382637 \n",
      "\n"
     ]
    }
   ],
   "source": [
    "import glob\n",
    "import os\n",
    "\n",
    "#fr.readCSV(tag=False,filename='Data_ReviewFilter/TrainData.csv')\n",
    "#print('\\\\n Readed\\\\n')\n",
    "#fr.trainModel(ts=0.25)\n",
    "\n",
    "folderlist = glob.glob('./labeled_data/*')\n",
    "for fol in folderlist:\n",
    "    if os.path.isdir(fol):\n",
    "        print('folder:',fol)\n",
    "      \n",
    "        filelist = glob.glob(fol+'/*.csv')\n",
    "        for file in filelist:\n",
    "            input_file = file.replace('\\\\','/')\n",
    "            input_path = input_file[2:]\n",
    "            print('input_file: ',input_path)\n",
    "            print('\\\\n Readed\\\\n')\n",
    "            \n",
    "            sa = SentimentAnalysis()\n",
    "            sa.readCSV(tag=False,filename=input_path,save=False)\n",
    "            sa.predict()\n",
    "            output_file = 'classifed_'+input_path[18:]\n",
    "            print('output_file:', output_file)\n",
    "            sa.writePredictionResult(filename=output_file)\n",
    "            sa.printAVGScoreResult()"
   ]
  },
  {
   "cell_type": "code",
   "execution_count": null,
   "metadata": {},
   "outputs": [],
   "source": [
    "from sklearn.linear_model import LogisticRegression\n",
    "classifier = LogisticRegression(random_state=1234)\n",
    "classifier.fit(train_x, train_y)\n",
    "\n",
    "# 테스트 socre 확인\n",
    "print( classifier.score(test_x, test_y) )\n",
    "# 0.63904\n",
    "\n",
    "# save the model to disk\n",
    "filename = 'model/finalized_model.sav'\n",
    "pickle.dump(classifier, open(filename, 'wb'))"
   ]
  }
 ],
 "metadata": {
  "kernelspec": {
   "display_name": "Python 3",
   "language": "python",
   "name": "python3"
  },
  "language_info": {
   "codemirror_mode": {
    "name": "ipython",
    "version": 3
   },
   "file_extension": ".py",
   "mimetype": "text/x-python",
   "name": "python",
   "nbconvert_exporter": "python",
   "pygments_lexer": "ipython3",
   "version": "3.7.0"
  }
 },
 "nbformat": 4,
 "nbformat_minor": 2
}
