{
 "cells": [
  {
   "cell_type": "code",
   "execution_count": 84,
   "metadata": {},
   "outputs": [],
   "source": [
    "import pandas as pd\n",
    "import numpy as np\n",
    "from sklearn.cluster import KMeans\n",
    "import matplotlib.pyplot as plt\n",
    "import seaborn as sns\n",
    "%matplotlib inline\n"
   ]
  },
  {
   "cell_type": "code",
   "execution_count": 37,
   "metadata": {},
   "outputs": [],
   "source": [
    "import "
   ]
  },
  {
   "cell_type": "code",
   "execution_count": 38,
   "metadata": {},
   "outputs": [
    {
     "data": {
      "text/plain": [
       "[array([ 2.24770550e-02, -7.96812624e-02, -2.03552712e-02,  1.86602861e-01,\n",
       "         1.31304726e-01,  8.78325850e-02, -1.47202294e-02, -5.38722798e-02,\n",
       "         6.33157417e-02,  1.10520739e-02,  1.51493445e-01,  1.83012620e-01,\n",
       "         1.65917158e-01,  1.16640097e-02,  2.53683161e-02, -3.49536598e-01,\n",
       "         8.05003792e-02, -4.12851535e-02,  1.33538321e-01, -1.01958752e-01,\n",
       "         9.89325866e-02, -1.80083066e-02, -1.85750395e-01,  3.66972038e-03,\n",
       "        -2.10383572e-02,  2.23525673e-01, -1.26911968e-01,  8.18286985e-02,\n",
       "         9.72807333e-02,  9.95129496e-02, -5.53676262e-02, -5.58397025e-02,\n",
       "         9.63059887e-02, -1.82411879e-01, -1.56122223e-01, -6.31740838e-02,\n",
       "         1.23284683e-02,  1.59240246e-01, -1.06038161e-01, -4.46947254e-02,\n",
       "        -1.37210682e-01,  4.04272377e-02,  1.70104384e-01,  1.64767671e-02,\n",
       "        -1.18752457e-01,  2.87958384e-02,  2.12361403e-02,  9.76089239e-02,\n",
       "         2.65155703e-01, -4.54164948e-03, -2.60170430e-01, -1.91105157e-02,\n",
       "         5.69118299e-02,  1.38894826e-01, -8.20395052e-02, -6.84176013e-02,\n",
       "         3.10461577e-02,  2.97989491e-02, -2.15474498e-02, -4.07698005e-02,\n",
       "         1.05512731e-01,  4.47176732e-02,  1.68400303e-01, -1.14048660e-01,\n",
       "        -8.27134475e-02,  5.79345338e-02,  9.41679999e-02, -1.93178968e-03,\n",
       "         5.93111813e-02,  2.60781981e-02, -9.26567987e-02,  5.43944625e-05,\n",
       "        -1.03068901e-02,  1.70114525e-02, -1.03877641e-01, -5.30916564e-02,\n",
       "        -9.57806110e-02,  5.91335818e-02, -4.66624834e-02, -1.56176277e-02,\n",
       "        -6.82420284e-02,  1.78096052e-02,  3.13721359e-01,  6.75921068e-02,\n",
       "        -2.99204458e-02, -3.38499516e-01, -1.48362607e-01, -9.05376002e-02,\n",
       "         1.83005542e-01,  5.28620258e-02, -4.02137600e-02, -1.57393128e-01,\n",
       "        -1.83816731e-01, -2.37624466e-01,  7.95698166e-02, -4.60964702e-02,\n",
       "        -1.15610093e-01,  2.03281730e-01,  4.76297438e-02, -1.95677161e-01,\n",
       "        -2.05290839e-01, -7.20487311e-02,  6.29095137e-02, -4.64647962e-03,\n",
       "         3.98603566e-02,  2.59161871e-02, -5.71450144e-02,  5.29107861e-02,\n",
       "        -7.72623047e-02,  1.40288666e-01,  8.84650424e-02, -8.12135413e-02,\n",
       "        -1.56572498e-02,  2.80208886e-02,  2.03539646e-04, -3.48027721e-02,\n",
       "        -1.40922159e-01,  5.66689670e-02,  1.18733235e-01, -1.23728570e-02,\n",
       "         4.39934768e-02,  4.27134372e-02, -2.23078892e-01,  2.54843682e-01,\n",
       "        -4.70711524e-03,  1.74556896e-01, -1.60371974e-01,  3.83895598e-02,\n",
       "         1.16254531e-01,  4.26312909e-02, -1.02106087e-01, -8.78434554e-02,\n",
       "         2.64779955e-01, -9.25989822e-02, -1.11149535e-01,  1.50186764e-02,\n",
       "         4.84301224e-02,  4.90938872e-02,  1.75483122e-01, -2.12834612e-01,\n",
       "        -1.16879478e-01,  2.37037793e-01,  8.36008564e-02,  2.14382336e-01,\n",
       "         1.86186925e-01, -1.96662962e-01, -8.65117610e-02,  5.65095693e-02,\n",
       "        -3.45917046e-02, -1.01705663e-01,  1.50493681e-01,  1.00521460e-01,\n",
       "         1.69264693e-02,  6.99402392e-02, -1.36314154e-01, -8.71886462e-02,\n",
       "         1.39821276e-01, -3.20474096e-02, -4.58845086e-02, -1.00089304e-01,\n",
       "        -5.92617271e-03,  1.14594735e-01, -6.38087988e-02,  1.11583233e-01,\n",
       "         3.70767824e-02,  1.97173342e-01,  8.12284127e-02,  4.39023077e-02,\n",
       "         8.20253566e-02, -2.19357405e-02,  1.68445691e-01,  1.15565941e-01,\n",
       "         3.52439731e-02,  3.02473083e-03, -5.91835156e-02, -1.72482505e-02,\n",
       "        -4.74894159e-02, -9.68824029e-02, -1.85507759e-02,  1.34041637e-01,\n",
       "        -2.10471582e-02,  5.61562143e-02,  7.41833746e-02,  1.36387795e-01,\n",
       "        -1.70227334e-01, -1.83551118e-01, -1.42904684e-01,  4.61063311e-02,\n",
       "         8.37683156e-02, -4.84788865e-02,  5.37627749e-02,  7.71035179e-02,\n",
       "         1.39698893e-01,  4.13806364e-02, -1.74094830e-02, -1.57431275e-01,\n",
       "         1.67327076e-01,  1.23602778e-01,  5.01635065e-03,  4.15948518e-02,\n",
       "        -2.03108825e-02, -4.02537435e-02,  4.76759188e-02,  1.83303088e-01,\n",
       "        -1.54217809e-01,  2.05477685e-01, -1.11301601e-01,  7.26106614e-02,\n",
       "        -7.09906891e-02, -2.79119253e-01, -1.01387933e-01, -2.26254225e-01,\n",
       "        -1.71109177e-02, -1.18592530e-01,  9.39169824e-02, -1.57074872e-02,\n",
       "         2.29793742e-01, -5.90639785e-02,  9.79359373e-02,  1.08693168e-01,\n",
       "         1.78642273e-01,  1.86589230e-02,  2.63651460e-02, -4.35313061e-02,\n",
       "        -4.49410938e-02, -3.00246358e-01, -1.18333049e-01,  6.65592626e-02,\n",
       "         1.30428463e-01,  3.22834682e-03, -7.79265240e-02,  3.23703997e-02,\n",
       "        -2.49281595e-03,  1.74763665e-01,  1.94772575e-02, -7.47128278e-02,\n",
       "         6.16088137e-02, -5.40770330e-02,  3.00718155e-02, -1.43274218e-01,\n",
       "        -1.25418529e-01, -7.87590519e-02, -3.66194942e-03,  9.69540626e-02,\n",
       "        -1.36234164e-01,  1.24453455e-01, -4.97253723e-02,  1.22185737e-01,\n",
       "        -1.02634005e-01,  1.23064362e-01, -2.13729858e-01, -2.61632532e-01,\n",
       "         7.60231763e-02,  3.13304667e-03, -1.20255053e-01, -2.43479669e-01,\n",
       "        -5.24311997e-02, -2.09865436e-01,  2.07521468e-02,  2.93634944e-02,\n",
       "         1.85533985e-01, -6.33416101e-02, -9.74503160e-02, -1.20708093e-01,\n",
       "        -2.87220269e-01,  7.43967816e-02,  4.50123213e-02,  1.19430326e-01,\n",
       "         2.14709174e-02, -1.82370678e-01,  6.68083951e-02, -1.04202844e-01,\n",
       "         6.04041219e-02, -1.33004645e-02,  1.06051065e-01,  6.99675679e-02,\n",
       "        -1.00716621e-01, -3.45437378e-02, -1.02464184e-01, -7.25471750e-02,\n",
       "         1.98660091e-01,  2.62463987e-01, -6.90672621e-02,  1.26260221e-01,\n",
       "         2.37512439e-01, -1.31142870e-01,  1.05982080e-01, -1.06552802e-01,\n",
       "        -1.64088681e-01,  3.45915556e-02, -2.02442221e-02, -2.64015943e-01,\n",
       "         6.54678568e-02, -1.14656843e-01, -1.19870991e-01,  1.29990682e-01,\n",
       "         1.46406507e-02,  2.23806635e-01,  2.11371407e-02,  2.81923711e-02],\n",
       "       dtype=float32),\n",
       " array([-8.62234086e-03,  6.73568249e-02, -9.64485556e-02, -2.23505422e-02,\n",
       "         2.29128778e-01, -5.66116534e-03,  4.45354618e-02,  8.00381005e-02,\n",
       "        -5.56229763e-02, -6.82857707e-02, -6.67973682e-02, -6.45515919e-02,\n",
       "        -9.01222378e-02, -3.59851941e-02, -1.42085189e-02, -6.81500584e-02,\n",
       "        -5.39302528e-02,  1.74399883e-01, -3.23377945e-03,  8.78752172e-02,\n",
       "        -4.78219613e-02, -7.74037614e-02,  1.51561126e-01,  8.75622556e-02,\n",
       "        -5.27497083e-02, -8.55742842e-02, -8.14359859e-02, -8.80087242e-02,\n",
       "        -3.51776369e-02,  1.00257527e-03, -3.97445858e-02, -5.69097847e-02,\n",
       "        -3.94137427e-02, -6.38537630e-02,  5.17204143e-02, -8.40605516e-03,\n",
       "        -1.10614762e-01, -1.43029690e-01, -9.53441486e-02,  8.63764808e-02,\n",
       "         5.89729957e-02, -6.12667128e-02, -9.97717306e-02, -8.25818926e-02,\n",
       "        -6.95898905e-02,  1.22920815e-02, -3.77944037e-02, -1.26650795e-01,\n",
       "        -1.73909113e-01,  1.11237019e-01,  1.62528232e-01,  2.32916549e-02,\n",
       "         6.04367293e-02, -5.69509827e-02, -6.55042902e-02,  9.98808816e-02,\n",
       "        -5.79741076e-02,  8.47551152e-02,  1.11763820e-01, -7.22081736e-02,\n",
       "        -6.67198226e-02, -8.56021345e-02,  9.62968618e-02, -1.04142763e-01,\n",
       "        -4.98441346e-02, -2.47705635e-02, -1.00047477e-01, -7.45651573e-02,\n",
       "        -6.76976740e-02, -3.64019647e-02, -6.18889853e-02, -2.67027467e-02,\n",
       "         1.10511415e-01,  6.23863982e-03,  6.57062158e-02, -1.84588239e-03,\n",
       "        -1.06224671e-01,  1.08096488e-01,  1.74274355e-01,  1.69015897e-03,\n",
       "         6.43575424e-03,  3.07059158e-02, -1.79003492e-01,  6.28305972e-02,\n",
       "        -2.95970682e-02,  2.05136284e-01, -1.99504066e-02, -1.14052609e-01,\n",
       "        -5.24975844e-02, -4.53402549e-02,  1.14567857e-02,  5.07876882e-03,\n",
       "         1.91564053e-01,  2.22169593e-01, -1.68794051e-01,  3.24708298e-02,\n",
       "        -1.97529537e-03, -5.89127764e-02,  1.65772531e-02,  2.55113952e-02,\n",
       "         7.80436322e-02,  1.25852749e-01,  4.08583693e-02,  2.64722593e-02,\n",
       "        -2.97995415e-02,  1.97666347e-01,  7.97330460e-04,  1.57283582e-02,\n",
       "         1.04772896e-02, -1.29307076e-01,  1.41829653e-02,  6.94362074e-02,\n",
       "         5.59540140e-03,  2.25158725e-02,  5.11582643e-02,  1.02302462e-01,\n",
       "        -6.95785061e-02,  1.06713483e-02, -9.50021744e-02, -3.12477816e-02,\n",
       "        -6.69960305e-02,  1.12516046e-01, -1.51975095e-01,  2.84913220e-02,\n",
       "        -3.38983834e-02, -6.62689731e-02,  4.14211936e-02, -5.11992313e-02,\n",
       "        -9.44672152e-03, -6.47131354e-02,  1.07592456e-01,  3.61404866e-02,\n",
       "        -4.06063274e-02, -4.56332676e-02, -1.26843452e-01, -3.10373548e-02,\n",
       "        -9.42581519e-02, -4.31250222e-02,  1.23817576e-02, -3.36148292e-02,\n",
       "         4.10611778e-02,  8.60096049e-03, -5.19048311e-02,  2.90987790e-02,\n",
       "        -1.03538446e-01,  1.36228457e-01, -8.75906944e-02,  1.73802990e-02,\n",
       "         7.32192993e-02,  9.22445133e-02, -1.10806957e-01, -2.99029630e-02,\n",
       "         1.82631928e-02, -4.69574817e-02,  4.24547493e-02,  2.00023036e-02,\n",
       "        -6.60641715e-02,  5.85675947e-02,  2.77521219e-02,  3.61405239e-02,\n",
       "        -7.64552429e-02, -1.58978760e-01,  9.42805409e-02,  6.28897846e-02,\n",
       "         6.48579374e-02,  4.89756539e-02,  4.51961495e-02, -9.13533568e-02,\n",
       "         8.53216127e-02, -4.55890708e-02, -1.20680518e-02,  3.73444916e-03,\n",
       "         6.63589835e-02, -5.90165742e-02,  3.56029719e-02, -3.93233113e-02,\n",
       "         6.97107101e-03,  7.59148449e-02,  6.74087787e-05,  8.89512897e-03,\n",
       "        -3.74424271e-02,  8.61919671e-02, -2.31647980e-03, -3.83850373e-02,\n",
       "         6.39503822e-02,  1.42506257e-01,  2.76593655e-01, -1.55376475e-02,\n",
       "         7.73405358e-02,  8.79084393e-02,  9.17465463e-02, -4.97495309e-02,\n",
       "        -9.91577208e-02, -2.62928307e-02,  4.12766337e-02,  4.16665860e-02,\n",
       "        -9.12552550e-02, -7.22643957e-02,  4.64662984e-02,  3.46292742e-02,\n",
       "        -4.16879132e-02,  1.48637742e-01, -9.72847417e-02, -5.08906506e-03,\n",
       "         6.41966388e-02, -5.00389859e-02,  1.08592339e-01, -1.84077751e-02,\n",
       "         8.11977908e-02,  6.96964487e-02,  4.38468568e-02,  1.31137790e-02,\n",
       "         1.03802174e-01, -1.75088644e-02,  4.22730185e-02, -5.06561361e-02,\n",
       "        -1.93157330e-01,  4.49331524e-03, -1.68894939e-02, -1.07216179e-01,\n",
       "         3.92987356e-02,  3.44259813e-02, -7.41095394e-02, -4.24906872e-02,\n",
       "         5.38846366e-02, -1.09920204e-02, -5.62033616e-02, -6.26888052e-02,\n",
       "        -7.38706440e-02, -7.20698982e-02, -4.91167493e-02,  1.61694601e-01,\n",
       "         1.73672438e-02, -1.02164410e-01, -5.22022247e-02, -9.16373506e-02,\n",
       "        -1.27124831e-01, -4.96747866e-02,  8.39920267e-02, -1.97273493e-02,\n",
       "         3.53608206e-02,  2.44528390e-02, -6.55922368e-02, -1.08028948e-01,\n",
       "        -7.60790929e-02,  1.33101940e-01, -1.75837874e-01, -1.43236905e-01,\n",
       "        -1.00785377e-03, -1.75761636e-02,  8.77343416e-02, -5.40892035e-02,\n",
       "        -7.18141301e-03, -8.10515508e-02, -3.51622254e-02,  4.87036332e-02,\n",
       "        -4.98297252e-02, -5.82827404e-02, -1.49225935e-01,  7.36159831e-02,\n",
       "         4.77547310e-02,  3.99039499e-02, -6.34612441e-02,  8.93284008e-03,\n",
       "         9.74198151e-03,  1.34936227e-02,  3.14702056e-02, -4.34240177e-02,\n",
       "         5.53798378e-02, -8.04887339e-03,  5.27012087e-02,  9.15924311e-02,\n",
       "         6.55220598e-02,  1.55727595e-01, -7.61408880e-02, -4.02917042e-02,\n",
       "        -1.97146162e-02,  9.85102504e-02,  7.65812322e-02,  4.61800843e-02,\n",
       "        -2.39692509e-01, -5.89683764e-02, -3.44614051e-02,  4.65963874e-03,\n",
       "        -1.11581804e-02,  4.30948548e-02,  5.79493791e-02, -8.51010084e-02,\n",
       "         1.07924879e-01, -1.71797648e-02,  2.67473347e-02,  5.41179106e-02,\n",
       "        -3.57813993e-03,  2.12014597e-02, -4.30486863e-03, -3.39997038e-02,\n",
       "        -8.78127739e-02, -2.33130623e-02, -1.03201039e-01,  1.05205745e-01],\n",
       "       dtype=float32)]"
      ]
     },
     "execution_count": 38,
     "metadata": {},
     "output_type": "execute_result"
    }
   ],
   "source": [
    "pre = PreProcessor()\n",
    "pre.setPara('')\n",
    "\n",
    "pre.transVector()\n",
    "pre.Vec"
   ]
  },
  {
   "cell_type": "code",
   "execution_count": 85,
   "metadata": {},
   "outputs": [],
   "source": [
    "\n",
    "df = pd.DataFrame(columns=['height', 'weight'])\n",
    "df.loc[0] = [185,60]\n",
    "df.loc[1] = [180,60]\n",
    "df.loc[2] = [185,70]\n",
    "df.loc[3] = [165,63]\n",
    "df.loc[4] = [155,68]\n",
    "df.loc[5] = [170,75]\n",
    "df.loc[6] = [185,65]\n",
    "\n",
    "df2 = pd.DataFrame(columns=['height', 'weight'])\n",
    "df2.loc[0] = [185,75]\n",
    "df2.loc[1] = [175,63]\n",
    "df2.loc[2] = [165,60]\n",
    "df2.loc[3] = [170,66]\n",
    "\n"
   ]
  },
  {
   "cell_type": "code",
   "execution_count": 86,
   "metadata": {},
   "outputs": [
    {
     "data": {
      "text/html": [
       "<div>\n",
       "<style scoped>\n",
       "    .dataframe tbody tr th:only-of-type {\n",
       "        vertical-align: middle;\n",
       "    }\n",
       "\n",
       "    .dataframe tbody tr th {\n",
       "        vertical-align: top;\n",
       "    }\n",
       "\n",
       "    .dataframe thead th {\n",
       "        text-align: right;\n",
       "    }\n",
       "</style>\n",
       "<table border=\"1\" class=\"dataframe\">\n",
       "  <thead>\n",
       "    <tr style=\"text-align: right;\">\n",
       "      <th></th>\n",
       "      <th>height</th>\n",
       "      <th>weight</th>\n",
       "    </tr>\n",
       "  </thead>\n",
       "  <tbody>\n",
       "    <tr>\n",
       "      <th>0</th>\n",
       "      <td>185</td>\n",
       "      <td>60</td>\n",
       "    </tr>\n",
       "    <tr>\n",
       "      <th>1</th>\n",
       "      <td>180</td>\n",
       "      <td>60</td>\n",
       "    </tr>\n",
       "    <tr>\n",
       "      <th>2</th>\n",
       "      <td>185</td>\n",
       "      <td>70</td>\n",
       "    </tr>\n",
       "    <tr>\n",
       "      <th>3</th>\n",
       "      <td>165</td>\n",
       "      <td>63</td>\n",
       "    </tr>\n",
       "    <tr>\n",
       "      <th>4</th>\n",
       "      <td>155</td>\n",
       "      <td>68</td>\n",
       "    </tr>\n",
       "    <tr>\n",
       "      <th>5</th>\n",
       "      <td>170</td>\n",
       "      <td>75</td>\n",
       "    </tr>\n",
       "    <tr>\n",
       "      <th>6</th>\n",
       "      <td>185</td>\n",
       "      <td>65</td>\n",
       "    </tr>\n",
       "  </tbody>\n",
       "</table>\n",
       "</div>"
      ],
      "text/plain": [
       "  height weight\n",
       "0    185     60\n",
       "1    180     60\n",
       "2    185     70\n",
       "3    165     63\n",
       "4    155     68\n",
       "5    170     75\n",
       "6    185     65"
      ]
     },
     "execution_count": 86,
     "metadata": {},
     "output_type": "execute_result"
    }
   ],
   "source": [
    "\n",
    "df.head(7)"
   ]
  },
  {
   "cell_type": "code",
   "execution_count": 89,
   "metadata": {},
   "outputs": [
    {
     "data": {
      "text/plain": [
       "7"
      ]
     },
     "execution_count": 89,
     "metadata": {},
     "output_type": "execute_result"
    }
   ],
   "source": [
    "len(df)"
   ]
  },
  {
   "cell_type": "code",
   "execution_count": 90,
   "metadata": {},
   "outputs": [
    {
     "data": {
      "text/html": [
       "<div>\n",
       "<style scoped>\n",
       "    .dataframe tbody tr th:only-of-type {\n",
       "        vertical-align: middle;\n",
       "    }\n",
       "\n",
       "    .dataframe tbody tr th {\n",
       "        vertical-align: top;\n",
       "    }\n",
       "\n",
       "    .dataframe thead th {\n",
       "        text-align: right;\n",
       "    }\n",
       "</style>\n",
       "<table border=\"1\" class=\"dataframe\">\n",
       "  <thead>\n",
       "    <tr style=\"text-align: right;\">\n",
       "      <th></th>\n",
       "      <th>height</th>\n",
       "      <th>weight</th>\n",
       "    </tr>\n",
       "  </thead>\n",
       "  <tbody>\n",
       "    <tr>\n",
       "      <th>0</th>\n",
       "      <td>185</td>\n",
       "      <td>60</td>\n",
       "    </tr>\n",
       "    <tr>\n",
       "      <th>1</th>\n",
       "      <td>180</td>\n",
       "      <td>60</td>\n",
       "    </tr>\n",
       "    <tr>\n",
       "      <th>2</th>\n",
       "      <td>185</td>\n",
       "      <td>70</td>\n",
       "    </tr>\n",
       "    <tr>\n",
       "      <th>3</th>\n",
       "      <td>165</td>\n",
       "      <td>63</td>\n",
       "    </tr>\n",
       "    <tr>\n",
       "      <th>4</th>\n",
       "      <td>155</td>\n",
       "      <td>68</td>\n",
       "    </tr>\n",
       "    <tr>\n",
       "      <th>5</th>\n",
       "      <td>170</td>\n",
       "      <td>75</td>\n",
       "    </tr>\n",
       "    <tr>\n",
       "      <th>6</th>\n",
       "      <td>185</td>\n",
       "      <td>65</td>\n",
       "    </tr>\n",
       "    <tr>\n",
       "      <th>7</th>\n",
       "      <td>185</td>\n",
       "      <td>75</td>\n",
       "    </tr>\n",
       "    <tr>\n",
       "      <th>8</th>\n",
       "      <td>175</td>\n",
       "      <td>63</td>\n",
       "    </tr>\n",
       "    <tr>\n",
       "      <th>9</th>\n",
       "      <td>165</td>\n",
       "      <td>60</td>\n",
       "    </tr>\n",
       "    <tr>\n",
       "      <th>10</th>\n",
       "      <td>170</td>\n",
       "      <td>66</td>\n",
       "    </tr>\n",
       "  </tbody>\n",
       "</table>\n",
       "</div>"
      ],
      "text/plain": [
       "   height weight\n",
       "0     185     60\n",
       "1     180     60\n",
       "2     185     70\n",
       "3     165     63\n",
       "4     155     68\n",
       "5     170     75\n",
       "6     185     65\n",
       "7     185     75\n",
       "8     175     63\n",
       "9     165     60\n",
       "10    170     66"
      ]
     },
     "execution_count": 90,
     "metadata": {},
     "output_type": "execute_result"
    }
   ],
   "source": [
    "df3 = df.append(df2,ignore_index=True)\n",
    "df3"
   ]
  },
  {
   "cell_type": "code",
   "execution_count": 91,
   "metadata": {},
   "outputs": [
    {
     "data": {
      "text/plain": [
       "<seaborn.axisgrid.FacetGrid at 0x222f3c70ef0>"
      ]
     },
     "execution_count": 91,
     "metadata": {},
     "output_type": "execute_result"
    },
    {
     "data": {
      "image/png": "[encoded data removed]",
      "text/plain": [
       "<Figure size 360x360 with 1 Axes>"
      ]
     },
     "metadata": {
      "needs_background": "light"
     },
     "output_type": "display_data"
    }
   ],
   "source": [
    "sns.lmplot('height', 'weight', \n",
    "           data=df3, fit_reg=False, \n",
    "           scatter_kws={\"s\": 200})"
   ]
  },
  {
   "cell_type": "code",
   "execution_count": 93,
   "metadata": {},
   "outputs": [],
   "source": [
    "\n",
    "data_points = df3.values\n",
    "kmeans = KMeans(n_clusters=4).fit(data_points)\n"
   ]
  },
  {
   "cell_type": "code",
   "execution_count": 95,
   "metadata": {},
   "outputs": [
    {
     "data": {
      "text/plain": [
       "array([[185, 60],\n",
       "       [180, 60],\n",
       "       [185, 70],\n",
       "       [165, 63],\n",
       "       [155, 68],\n",
       "       [170, 75],\n",
       "       [185, 65],\n",
       "       [185, 75],\n",
       "       [175, 63],\n",
       "       [165, 60],\n",
       "       [170, 66]], dtype=object)"
      ]
     },
     "execution_count": 95,
     "metadata": {},
     "output_type": "execute_result"
    }
   ],
   "source": [
    "df3.values"
   ]
  },
  {
   "cell_type": "code",
   "execution_count": 97,
   "metadata": {},
   "outputs": [
    {
     "data": {
      "text/plain": [
       "array([[183.33333333,  61.66666667],\n",
       "       [161.66666667,  63.66666667],\n",
       "       [171.66666667,  68.        ],\n",
       "       [185.        ,  72.5       ]])"
      ]
     },
     "execution_count": 97,
     "metadata": {},
     "output_type": "execute_result"
    }
   ],
   "source": [
    "kmeans.cluster_centers_"
   ]
  },
  {
   "cell_type": "code",
   "execution_count": 99,
   "metadata": {},
   "outputs": [],
   "source": [
    "df3['cluster_id'] = kmeans.labels_"
   ]
  },
  {
   "cell_type": "code",
   "execution_count": 100,
   "metadata": {},
   "outputs": [
    {
     "data": {
      "text/html": [
       "<div>\n",
       "<style scoped>\n",
       "    .dataframe tbody tr th:only-of-type {\n",
       "        vertical-align: middle;\n",
       "    }\n",
       "\n",
       "    .dataframe tbody tr th {\n",
       "        vertical-align: top;\n",
       "    }\n",
       "\n",
       "    .dataframe thead th {\n",
       "        text-align: right;\n",
       "    }\n",
       "</style>\n",
       "<table border=\"1\" class=\"dataframe\">\n",
       "  <thead>\n",
       "    <tr style=\"text-align: right;\">\n",
       "      <th></th>\n",
       "      <th>height</th>\n",
       "      <th>weight</th>\n",
       "      <th>cluster_id</th>\n",
       "    </tr>\n",
       "  </thead>\n",
       "  <tbody>\n",
       "    <tr>\n",
       "      <th>0</th>\n",
       "      <td>185</td>\n",
       "      <td>60</td>\n",
       "      <td>0</td>\n",
       "    </tr>\n",
       "    <tr>\n",
       "      <th>1</th>\n",
       "      <td>180</td>\n",
       "      <td>60</td>\n",
       "      <td>0</td>\n",
       "    </tr>\n",
       "    <tr>\n",
       "      <th>2</th>\n",
       "      <td>185</td>\n",
       "      <td>70</td>\n",
       "      <td>3</td>\n",
       "    </tr>\n",
       "    <tr>\n",
       "      <th>3</th>\n",
       "      <td>165</td>\n",
       "      <td>63</td>\n",
       "      <td>1</td>\n",
       "    </tr>\n",
       "    <tr>\n",
       "      <th>4</th>\n",
       "      <td>155</td>\n",
       "      <td>68</td>\n",
       "      <td>1</td>\n",
       "    </tr>\n",
       "    <tr>\n",
       "      <th>5</th>\n",
       "      <td>170</td>\n",
       "      <td>75</td>\n",
       "      <td>2</td>\n",
       "    </tr>\n",
       "    <tr>\n",
       "      <th>6</th>\n",
       "      <td>185</td>\n",
       "      <td>65</td>\n",
       "      <td>0</td>\n",
       "    </tr>\n",
       "    <tr>\n",
       "      <th>7</th>\n",
       "      <td>185</td>\n",
       "      <td>75</td>\n",
       "      <td>3</td>\n",
       "    </tr>\n",
       "    <tr>\n",
       "      <th>8</th>\n",
       "      <td>175</td>\n",
       "      <td>63</td>\n",
       "      <td>2</td>\n",
       "    </tr>\n",
       "    <tr>\n",
       "      <th>9</th>\n",
       "      <td>165</td>\n",
       "      <td>60</td>\n",
       "      <td>1</td>\n",
       "    </tr>\n",
       "    <tr>\n",
       "      <th>10</th>\n",
       "      <td>170</td>\n",
       "      <td>66</td>\n",
       "      <td>2</td>\n",
       "    </tr>\n",
       "  </tbody>\n",
       "</table>\n",
       "</div>"
      ],
      "text/plain": [
       "   height weight  cluster_id\n",
       "0     185     60           0\n",
       "1     180     60           0\n",
       "2     185     70           3\n",
       "3     165     63           1\n",
       "4     155     68           1\n",
       "5     170     75           2\n",
       "6     185     65           0\n",
       "7     185     75           3\n",
       "8     175     63           2\n",
       "9     165     60           1\n",
       "10    170     66           2"
      ]
     },
     "execution_count": 100,
     "metadata": {},
     "output_type": "execute_result"
    }
   ],
   "source": [
    "df3.head(12)\n"
   ]
  },
  {
   "cell_type": "code",
   "execution_count": 102,
   "metadata": {},
   "outputs": [
    {
     "data": {
      "text/plain": [
       "<seaborn.axisgrid.FacetGrid at 0x222f3f99828>"
      ]
     },
     "execution_count": 102,
     "metadata": {},
     "output_type": "execute_result"
    },
    {
     "data": {
      "image/png": "[encoded data removed]",
      "text/plain": [
       "<Figure size 416.375x360 with 1 Axes>"
      ]
     },
     "metadata": {
      "needs_background": "light"
     },
     "output_type": "display_data"
    }
   ],
   "source": [
    "\n",
    "sns.lmplot('height', 'weight', data=df3, fit_reg=False,\n",
    "           scatter_kws={\"s\": 150},\n",
    "           hue=\"cluster_id\")"
   ]
  },
  {
   "cell_type": "code",
   "execution_count": 129,
   "metadata": {},
   "outputs": [
    {
     "data": {
      "text/plain": [
       "[1, 2, 3]"
      ]
     },
     "execution_count": 129,
     "metadata": {},
     "output_type": "execute_result"
    }
   ],
   "source": [
    "# cluster id와 target id가 동일한 경우 하나의 클러스터로 통합. \n",
    "df4= df3[len(df):]\n",
    "eq_cluster = list(set(df4['cluster_id'].values))\n",
    "eq_cluster[:]"
   ]
  },
  {
   "cell_type": "code",
   "execution_count": 141,
   "metadata": {},
   "outputs": [],
   "source": [
    "for i in range(len(eq_cluster)):\n",
    "    df3.loc[df3['cluster_id']==eq_cluster[i],\"cluster_id\"] = 5"
   ]
  },
  {
   "cell_type": "code",
   "execution_count": 143,
   "metadata": {},
   "outputs": [
    {
     "data": {
      "text/plain": [
       "<seaborn.axisgrid.FacetGrid at 0x222f4037470>"
      ]
     },
     "execution_count": 143,
     "metadata": {},
     "output_type": "execute_result"
    },
    {
     "data": {
      "image/png": "[encoded data removed]",
      "text/plain": [
       "<Figure size 416.375x360 with 1 Axes>"
      ]
     },
     "metadata": {
      "needs_background": "light"
     },
     "output_type": "display_data"
    }
   ],
   "source": [
    "\n",
    "sns.lmplot('height', 'weight', data=df3, fit_reg=False,\n",
    "           scatter_kws={\"s\": 150},\n",
    "           hue=\"cluster_id\")"
   ]
  },
  {
   "cell_type": "code",
   "execution_count": null,
   "metadata": {},
   "outputs": [],
   "source": []
  }
 ],
 "metadata": {
  "kernelspec": {
   "display_name": "Python 3",
   "language": "python",
   "name": "python3"
  },
  "language_info": {
   "codemirror_mode": {
    "name": "ipython",
    "version": 3
   },
   "file_extension": ".py",
   "mimetype": "text/x-python",
   "name": "python",
   "nbconvert_exporter": "python",
   "pygments_lexer": "ipython3",
   "version": "3.6.4"
  }
 },
 "nbformat": 4,
 "nbformat_minor": 2
}
